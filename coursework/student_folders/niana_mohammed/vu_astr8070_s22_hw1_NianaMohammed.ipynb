{
 "cells": [
  {
   "cell_type": "markdown",
   "metadata": {},
   "source": [
    "### ASTR 8070: Astrostatistics\n",
    "***S. R. Taylor***\n",
    "___\n",
    "\n",
    "# Homework 1\n",
    "### Due: Saturday, Jan 22nd at 11.59pm CST\n",
    "---"
   ]
  },
  {
   "cell_type": "markdown",
   "metadata": {},
   "source": [
    "## Problem 1\n",
    "\n",
    "Practice your git and GitHub skills by submitting this homework via GitHub.  You can skip Steps 1-4 if you have already completed the in-class work of Lecture 1.  Steps 5-11 are the new steps.  \n",
    "\n",
    "1) Navigate to https://github.com/VanderbiltAstronomy/astr_8070_s22 on your browser. **Don't clone this!** Instead, look to the rop right of the page for an option to fork the repository. Do this now. This will make a copy of the class repository for your own personal use.\n",
    "\n",
    "2) Now that you have a fork of the repository, clone it to your machine.\n",
    "\n",
    "    $ git clone https://github.com/YOUR_USERNAME/astr_8070_s22\n",
    "\n",
    "3) Add the original `VanderbiltAstronomy` repository as an `upstream` repository to your fork. First, list the current configured remote repository for your fork with:\n",
    "\n",
    "    $ git remote -v\n",
    "    \n",
    "Now, add the `VanderbiltAstronomy` repo as an upstream:\n",
    "\n",
    "    $ git remote add upstream https://github.com/VanderbiltAstronomy/astr_8070_s22\n",
    "    \n",
    "Verify that the new repository shows as an `upstream` by running `git remote -v` again.\n",
    "\n",
    "4) Get used to syncing upstream content to your fork with:\n",
    "\n",
    "    $ git fetch upstream\n",
    "    \n",
    "    $ git checkout main\n",
    "    \n",
    "    $ git merge upstream/main\n",
    "\n",
    "5) Now, navigate to `coursework/student_folders` folder. Make a folder in here labeled by your name in all lowercase(i.e. `firstname_lastname`).\n",
    "\n",
    "6) Copy your completed lecture notebooks (with all exercises in red finished) to your folder, adding your name to the file (e.g. `Lecture_1b_FirstnameLastname.ipynb`). This is what you will do for each week's lecture notebooks to get participation credit. Your lecture notebooks should have already been copies of my base lecture notebooks. **Never** run my base notebooks; always make a personal copy for yourself.\n",
    "\n",
    "7) Copy the **Homework 1** notebook (this file) to your folder, adding your name (e.g. `vu_astr8070_s22_hw1_FirstnameLastname.ipynb`) \n",
    "\n",
    "8) Complete the other problems listed below.\n",
    "\n",
    "9) Submit your homework as follows (making sure that your added files are contained within your student folder):\n",
    "\n",
    "    $ git add vu_astr8070_s22_hw1_FirstnameLastname.ipynb\n",
    "    \n",
    "    $ git commit -m \"Uploaded Homework 1\"\n",
    "    \n",
    "    $ git push\n",
    "   \n",
    "10) Similarly add, commit, and push your completed lecture notebooks. \n",
    "\n",
    "11) On your browser, navigate on GitHub to your fork of the course repository. You should see an option to initiate a `pull request` to merge your changes into the `main` repository. Your homework and lecture notebooks for the week are submitted when you initiate this pull request."
   ]
  },
  {
   "cell_type": "markdown",
   "metadata": {},
   "source": [
    "## Problem 2\n",
    "\n"
   ]
  },
  {
   "cell_type": "markdown",
   "metadata": {},
   "source": [
    "Consider a family with two children. Assume that the probability of females and males being born is equal, i.e. $p(F)=0.5$ and $p(M)=0.5$. Remember that \"given\" means your calculation is conditioned on some already fixed data or outcome. \n",
    "\n",
    "1) What is the probability of one male and one female **GIVEN** that the first child is male. \n",
    "\n",
    "2) What is the probability of two females **GIVEN** that at least one child is female.\n",
    "\n",
    "3) What is the probability of two females **GIVEN** that the older child is female.\n",
    "\n",
    "You will find it easiest to answer these questions by sketching a \"tree diagram\" to visualize the options for the oldest child, and the branching options for the youngest child. \n",
    "\n",
    "Either write your solution as Markdown/Latex below, or paste in a scanned image of your handwritten solution."
   ]
  },
  {
   "cell_type": "markdown",
   "metadata": {},
   "source": [
    "### Solution"
   ]
  },
  {
   "cell_type": "markdown",
   "metadata": {},
   "source": [
    "1) *(To get you started)* If the first child is male, then the only unknown is the sex of the second child. We want the second child to be female, which has a probability of 0.5. Thus, $p(F,M |C_1=M) = 0.5$. \n",
    "<br>Writing it out just to make sure I understand: \n",
    "<br> $p(F,C_1=M) = p(F|C_1=M)p(C_1=M) = 1/4$. And $p(C_1=M) = 2/4$. Therefore $p(F|C_1=M) = \\dfrac{p(F,C_1=M)}{p(C_1=M)} = \\dfrac{1/4}{2/4} = 1/2$\n",
    "\n",
    "2) FF, MF, FM, MM are the 4 possibilities.<br>Probability of female, given at least 1 female: $p(F|F)$.  Probability of a female & female: $p(F,F) = p(F|F)p(F) = 1/4$, where $p(F) = 3/4$ is probability of at least 1 female. <br>Therefore $p(F|F) = \\dfrac{p(F,F)}{p(F)} = \\dfrac{1/4}{3/4} = 1/3$\n",
    "\n",
    "3) Probability of female & older female: $p(F,C_1=F) = 1/4$. Probability of older female: $p(C_1=F) = 2/4$. <br>Probability of female given an older female: $p(F|C_1=F) = \\dfrac{p(F,C_1=F)}{p(C_1=F)} = \\dfrac{1/4}{2/4} = 1/2$ "
   ]
  },
  {
   "cell_type": "markdown",
   "metadata": {},
   "source": [
    "## Problem 3\n",
    "\n",
    "1) Use `numpy` to draw $1000$ random samples from a uniform distribution between $0.1$ and $10$, and store these samples as $x$.\n",
    "\n",
    "2) Use matplotlib to make a histogram of these samples. Try to make this as aesthetically pleasing as possible (within reason).\n",
    "\n",
    "3) Compute the base-10 log of your array $x$, and store this as $y$.\n",
    "\n",
    "4) Make another histogram for $y$. Using the equation to transform probability distributions in `Lecture_2`, write here what the theoretical pdf of $y$ is, and overplot it onto your histogram.\n",
    "\n",
    "5) Compute the mean of $x$ and the mean of $y$. Now compute the median of $x$ and the median of $y$. You should note that the means are different, but the medians (as it is a cumulative statistic) are the same. The mean is affected by the scale of the sample values, but the median only depends on the ordering of the samples. Monotonic transformations (like taking the log) do not change the ordering of samples."
   ]
  },
  {
   "cell_type": "markdown",
   "metadata": {},
   "source": [
    "### Solution"
   ]
  },
  {
   "cell_type": "code",
   "execution_count": 2,
   "metadata": {},
   "outputs": [
    {
     "data": {
      "text/markdown": [
       "$p(x)=1/(10-0.1)=0.10101010101010101$"
      ],
      "text/plain": [
       "<IPython.core.display.Markdown object>"
      ]
     },
     "metadata": {},
     "output_type": "display_data"
    },
    {
     "data": {
      "image/png": "[encoded data removed]",
      "text/plain": [
       "<Figure size 432x288 with 1 Axes>"
      ]
     },
     "metadata": {
      "needs_background": "light"
     },
     "output_type": "display_data"
    },
    {
     "data": {
      "text/markdown": [
       "$p(y) = \\Big|\\dfrac{dx}{dy}\\Big|p(x),\\hspace{2mm} $ but $\\hspace{2mm} x = 10^y$ and $p(x)\\approx0.1$"
      ],
      "text/plain": [
       "<IPython.core.display.Markdown object>"
      ]
     },
     "metadata": {},
     "output_type": "display_data"
    },
    {
     "data": {
      "text/markdown": [
       "$p(y) = \\Big|\\dfrac{d(10^y)}{dy}\\Big|(0.1) = [10^x ln(10)]*(0.1)$"
      ],
      "text/plain": [
       "<IPython.core.display.Markdown object>"
      ]
     },
     "metadata": {},
     "output_type": "display_data"
    },
    {
     "data": {
      "image/png": "[encoded data removed]",
      "text/plain": [
       "<Figure size 432x288 with 1 Axes>"
      ]
     },
     "metadata": {
      "needs_background": "light"
     },
     "output_type": "display_data"
    },
    {
     "name": "stdout",
     "output_type": "stream",
     "text": [
      "The transformation here is a monotonic transformation (i.e., the ordering of samples doesn't change). \n",
      "So my original understanding from the question and the description in the book was that for a monotonic transformation median(x) = median(y). However, as shown below, I did not find this statement to be true:\n",
      "\n",
      "mean of x =  5.226818611928797 \n",
      "mean of y =  0.6061949290645982\n",
      "\n",
      "median of x =  5.226818611928797 \n",
      "median of y =  0.7294370749843532\n",
      "\n",
      "After doing some reading online, my understanding for a monotonic transfomation is this: The median of a function y = f(x), is the same as the function applied to the median of x. I have found this to be true, as shown below. \n",
      "Given that y = log10(x) and x = 10^y:\n",
      "\n",
      "\u001b[1m(Doing the mean in different orders just for checking. They don't end up equal)\u001b[0m\n",
      "log10(np.mean(x)) =  0.7182374288895464 \n",
      "mean of y =  0.6061949290645982\n",
      "\n",
      "mean of x =  5.226818611928797 \n",
      "10^(mean(y)) =  4.038266061367689\n",
      "\n",
      "\u001b[1m(But the medians turn out to be equal)\u001b[0m\n",
      "log10(np.median(x)) =  0.7294372363488474 \n",
      "median of y =  0.7294370749843532\n",
      "\n",
      "median of x =  5.363363552344853 \n",
      "10^(median(y)) =  5.36336155955811\n"
     ]
    }
   ],
   "source": [
    "import numpy as np\n",
    "from matplotlib import pyplot as plt\n",
    "from IPython.display import display, Markdown\n",
    "\n",
    "# (1) drawing 1000 random samples from a uniform distribution between 0.1 and 10\n",
    "x = np.random.uniform(0.1,10,1000)\n",
    "\n",
    "# (2) making a histogram of these samples\n",
    "count, bins, ignored = plt.hist(x, 15, density=True, color=\"#99d8c9\")\n",
    "p_x = 1/(10-0.1)\n",
    "display(Markdown(rf'$p(x)=1/(10-0.1)={p_x}$'))\n",
    "plt.plot(bins, p_x*np.ones_like(bins), linewidth=2, color='r',label='p(x)')\n",
    "#plt.axvline(np.amin(bins),linewidth=2,c='r');plt.axvline(np.amax(bins),linewidth=2,c='r')\n",
    "plt.xlabel('x',fontsize=12);plt.ylabel(r'$p_x(x)$',fontsize=12)\n",
    "plt.xticks(fontsize=13);plt.yticks(fontsize=13)\n",
    "#plt.legend()\n",
    "plt.show()\n",
    "\n",
    "# (3) computing the base-10 log of x\n",
    "y = np.log10(x)\n",
    "\n",
    "# (4) Making another histogram for  𝑦\n",
    "count, bins, ignored = plt.hist(y, 15, density=True, color=\"#99d8c9\")\n",
    "# finding theoretical pdf of y, using Lecture 2 equation to transform probability distributions, & overplotting that\n",
    "display(Markdown(r'$p(y) = \\Big|\\dfrac{dx}{dy}\\Big|p(x),\\hspace{2mm} $ but $\\hspace{2mm} x = 10^y$ and $p(x)\\approx0.1$'),\n",
    "        (Markdown(r'$p(y) = \\Big|\\dfrac{d(10^y)}{dy}\\Big|(0.1) = [10^x ln(10)]*(0.1)$')))\n",
    "plt.plot(bins, 10**(bins)*np.log(10)*p_x, linewidth=2, color='r',label='p(y)')\n",
    "plt.xlabel('y',fontsize=13);plt.ylabel(r'$p_y(y)$',fontsize=13)\n",
    "plt.xticks(fontsize=12);plt.yticks(fontsize=12)\n",
    "#plt.legend()\n",
    "plt.show()\n",
    "\n",
    "# (5) Computing the mean of  𝑥  and the mean of  𝑦 \n",
    "print(\"The transformation here is a monotonic transformation (i.e., the ordering of samples doesn't change).\",\n",
    "     \"\\nSo my original understanding from the question and the description in the book was that for a monotonic transformation\",\n",
    "     \"median(x) = median(y).\",\n",
    "     \"However, as shown below, I did not find this statement to be true:\")\n",
    "# Computing the mean\n",
    "print('\\nmean of x = ',str(np.mean(x)),'\\nmean of y = ',str(np.mean(y)))\n",
    "# Computing the median\n",
    "print('\\nmedian of x = ',str(np.mean(x)),'\\nmedian of y = ',str(np.median(y)))\n",
    "print(\"\\nAfter doing some reading online, my understanding for a monotonic transfomation is this:\",\n",
    "      \"The median of a function y = f(x), is the same as the function applied to the median of x.\",\n",
    "      \"I have found this to be true, as shown below.\",\"\\nGiven that y = log10(x) and x = 10^y:\")\n",
    "# Computing the mean\n",
    "print(\"\\n\\033[1m\"+\"(Doing the mean in different orders just for checking. They don't end up equal)\"+\"\\033[0m\")\n",
    "print('log10(np.mean(x)) = ',str(np.log10(np.mean(x))),'\\nmean of y = ',str(np.mean(y)))\n",
    "print('\\nmean of x = ',str(np.mean(x)),'\\n10^(mean(y)) = ',str(10**(np.mean(y))))\n",
    "# Computing the median\n",
    "print(\"\\n\\033[1m\"+\"(But the medians turn out to be equal)\"+\"\\033[0m\")\n",
    "print('log10(np.median(x)) = ',str(np.log10(np.median(x))),'\\nmedian of y = ',str(np.median(y)))\n",
    "print('\\nmedian of x = ',str(np.median(x)),'\\n10^(median(y)) = ',str(10**(np.median(y))))"
   ]
  },
  {
   "cell_type": "code",
   "execution_count": null,
   "metadata": {},
   "outputs": [],
   "source": []
  }
 ],
 "metadata": {
  "anaconda-cloud": {},
  "kernelspec": {
   "display_name": "Python [conda env:astr8070] *",
   "language": "python",
   "name": "conda-env-astr8070-py"
  },
  "language_info": {
   "codemirror_mode": {
    "name": "ipython",
    "version": 3
   },
   "file_extension": ".py",
   "mimetype": "text/x-python",
   "name": "python",
   "nbconvert_exporter": "python",
   "pygments_lexer": "ipython3",
   "version": "3.8.12"
  }
 },
 "nbformat": 4,
 "nbformat_minor": 2
}
