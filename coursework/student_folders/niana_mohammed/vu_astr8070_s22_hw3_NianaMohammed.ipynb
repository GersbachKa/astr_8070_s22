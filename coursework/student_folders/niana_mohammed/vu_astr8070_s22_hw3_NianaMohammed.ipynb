{
 "cells": [
  {
   "cell_type": "markdown",
   "metadata": {},
   "source": [
    "### ASTR 8070: Astrostatistics\n",
    "***S. R. Taylor***\n",
    "___\n",
    "\n",
    "# Homework 3\n",
    "### Due: Saturday, Feb 12th at 11.59pm CST\n",
    "---"
   ]
  },
  {
   "cell_type": "markdown",
   "metadata": {},
   "source": [
    "## Only one problem this week\n",
    "\n",
    "This problem uses a dataset in `/coursework/homeworks/hw_data/`.\n",
    "\n",
    "1) Read in `hw3_data_1.npy`. This is a (50 x 2) numpy array, with measurements in the first column and uncertainties in the second column. Using the analytic results for heteroscedastic Gaussian data from lectures, compute the sample mean and the standard error on the sample mean from for this data.\n",
    "\n",
    "2) Reusing some approaches and tools from `Lecture_6`, write a ln-likelihood function for heteroscedastic Gaussian data, and use it in a fitting algorithm to find the best-fit mean. *Remember that scipy optimizers are set up to minimize functions.*\n",
    "\n",
    "3) Using the same numerical technique from `Lecture_5`, compute the Fisher uncertainty estimate on the mean.\n",
    "\n",
    "4) Using the bootstrap method, generate $1000$ bootstrap realizations of this dataset. *DO NOT use the `astroML` code. Write your own bootstrap function from scratch. Also recall that when resampling data, measurements and uncertainties should stay paired together.*\n",
    "\n",
    "5) Repeat (2) with all $1000$ boostrap datasets to find the distribution of the sample mean. Plot a normalized histogram of these bootstrap means, and overplot a Gaussian pdf with the mean and std found in (1). Do these agree?\n",
    "\n",
    "6) While we have fitted a heteroscedastic Gaussian to this data, let's try something else. Write some code to define a ln-likelihood for a Laplace distribution evaluated on this data. Fit simultaneously for the Laplace location parameter $\\mu$ and scale parameter $\\Delta$.\n",
    "\n",
    "7) Compute the AIC values for the heteroscedastic Gaussian model and the Laplacian model. Which model is favored by the data?\n",
    "\n",
    "8) Using the $1000$ bootstrap datasets from before, fit for the Laplacian $\\mu$ and $\\Delta$ for each. Make a nice `corner` plot of the distributions of $\\mu$ and $\\Delta$ that shows both the marginal $1$D distributions and the joint $2$D distribution. Make sure the plot has labels, shows the titles on each $1$D marginal panel, and has $68\\%$ and $95\\%$ levels.\n",
    "\n",
    "9) Let's finish with a Fisher uncertainty estimate of the Laplacian parameters. Use the following code to install `numdifftools` which provides a simple way to compute derivatives. We can then compute the Hessian matrix, which is the matrix of the second derivatives of the user's function. This should be computed at the best-fit Laplacian parameters $\\mu$ and $\\Delta$. To finish, invert the matrix, and then take the square root. The diagonal entries will then be the Fisher uncertainties on $\\mu$ and $\\Delta$. How does these compare to the bootstrap distribution widths found in (8)?"
   ]
  },
  {
   "cell_type": "code",
   "execution_count": 1,
   "metadata": {
    "collapsed": true
   },
   "outputs": [
    {
     "name": "stdout",
     "output_type": "stream",
     "text": [
      "Requirement already satisfied: numdifftools in /opt/anaconda3/envs/astr8070/lib/python3.8/site-packages (0.9.40)\n",
      "Requirement already satisfied: algopy>=0.4 in /opt/anaconda3/envs/astr8070/lib/python3.8/site-packages (from numdifftools) (0.5.7)\n",
      "Requirement already satisfied: scipy>=0.8 in /opt/anaconda3/envs/astr8070/lib/python3.8/site-packages (from numdifftools) (1.7.3)\n",
      "Requirement already satisfied: statsmodels>=0.6 in /opt/anaconda3/envs/astr8070/lib/python3.8/site-packages (from numdifftools) (0.13.1)\n",
      "Requirement already satisfied: numpy>=1.9 in /opt/anaconda3/envs/astr8070/lib/python3.8/site-packages (from numdifftools) (1.22.0)\n",
      "Requirement already satisfied: patsy>=0.5.2 in /opt/anaconda3/envs/astr8070/lib/python3.8/site-packages (from statsmodels>=0.6->numdifftools) (0.5.2)\n",
      "Requirement already satisfied: pandas>=0.25 in /opt/anaconda3/envs/astr8070/lib/python3.8/site-packages (from statsmodels>=0.6->numdifftools) (1.4.0)\n",
      "Requirement already satisfied: python-dateutil>=2.8.1 in /opt/anaconda3/envs/astr8070/lib/python3.8/site-packages (from pandas>=0.25->statsmodels>=0.6->numdifftools) (2.8.2)\n",
      "Requirement already satisfied: pytz>=2020.1 in /opt/anaconda3/envs/astr8070/lib/python3.8/site-packages (from pandas>=0.25->statsmodels>=0.6->numdifftools) (2021.3)\n",
      "Requirement already satisfied: six in /opt/anaconda3/envs/astr8070/lib/python3.8/site-packages (from patsy>=0.5.2->statsmodels>=0.6->numdifftools) (1.16.0)\n"
     ]
    }
   ],
   "source": [
    "!pip install numdifftools"
   ]
  },
  {
   "cell_type": "code",
   "execution_count": 1,
   "metadata": {},
   "outputs": [],
   "source": [
    "import numdifftools as nd\n",
    "\n",
    "# done in problem (9)...commented out because 'f_lnlaplace' is not defined yet\n",
    "# H = nd.Hessian(f_lnlaplace)([beta_laplace[0], beta_laplace[1]])\n",
    "# sigma_laplace = np.linalg.inv(H)**0.5"
   ]
  },
  {
   "cell_type": "markdown",
   "metadata": {},
   "source": [
    "### Solution"
   ]
  },
  {
   "cell_type": "code",
   "execution_count": 2,
   "metadata": {},
   "outputs": [],
   "source": [
    "import numpy as np\n",
    "from matplotlib import pyplot as plt\n",
    "import scipy.stats\n",
    "from scipy.stats import norm\n",
    "from scipy import optimize"
   ]
  },
  {
   "cell_type": "markdown",
   "metadata": {},
   "source": [
    "## 1)"
   ]
  },
  {
   "cell_type": "code",
   "execution_count": 3,
   "metadata": {
    "scrolled": true
   },
   "outputs": [
    {
     "name": "stdout",
     "output_type": "stream",
     "text": [
      "sample mean:  3.9179920346060557\n",
      "error on sample mean: 0.09481084100510954\n"
     ]
    }
   ],
   "source": [
    "# Loading hw3_data_1.npy\n",
    "data = np.load(\"../../homeworks/hw_data/hw3_data_1.npy\") \n",
    "# extracting measurements and uncertainties\n",
    "meas = np.array([i[0] for i in data])\n",
    "uncert = np.array([i[1] for i in data])\n",
    "\n",
    "# Using heteroscedastic gaussian result from derivation in Lecture 5 \n",
    "# to calculate sample mean and error on sample mean \n",
    "sample_mu = np.sum(meas/uncert**2)/np.sum(1/uncert**2)\n",
    "error = np.sum(1/uncert**2)**(-1/2)\n",
    "print('sample mean: ',sample_mu)\n",
    "print('error on sample mean:',error)"
   ]
  },
  {
   "cell_type": "markdown",
   "metadata": {},
   "source": [
    "## 2)"
   ]
  },
  {
   "cell_type": "code",
   "execution_count": 4,
   "metadata": {},
   "outputs": [
    {
     "name": "stdout",
     "output_type": "stream",
     "text": [
      "Best fit mean:  3.91796875\n"
     ]
    }
   ],
   "source": [
    "# Writing ln-likelihood function for Gaussian distribution, following approach from Lecture 6\n",
    "# For a Gaussian distribution, maximizing ln-likelihood is same as minimizing chi^2 (derivations in L5 & L6).\n",
    "def squared_loss(mu, xi, sigma):\n",
    "    # the only model parameter is mean value, a constant value\n",
    "    return np.sum(((xi - mu) / sigma) ** 2, -1) # data minus model, weighted by the noise\n",
    "\n",
    "# define a lambda function\n",
    "f_squared = lambda beta: squared_loss(beta[0], xi=meas, sigma=uncert)\n",
    "\n",
    "# compute the maximum likelihood \n",
    "beta0 = 4 # initial guess for mu\n",
    "beta_squared = optimize.fmin(f_squared, beta0, disp=False) # scipy optimize finds the function minimum\n",
    "\n",
    "print('Best fit mean: ',beta_squared[0])"
   ]
  },
  {
   "cell_type": "markdown",
   "metadata": {},
   "source": [
    "## 3)"
   ]
  },
  {
   "cell_type": "code",
   "execution_count": 5,
   "metadata": {},
   "outputs": [
    {
     "name": "stdout",
     "output_type": "stream",
     "text": [
      "Fisher matrix error on estimated mean is 0.095\n"
     ]
    }
   ],
   "source": [
    "# computing Fisher uncertainty estimate on the mean, using numerical technique from Lecture_5\n",
    "xgrid = np.linspace(1,8,1000) # make a list of possible mu values\n",
    "sums = []\n",
    "# probsum = []\n",
    "for i in range(len(xgrid)):\n",
    "    logpdf = norm.logpdf(meas,loc=xgrid[i],scale=uncert)\n",
    "    sums.append(np.sum(logpdf)) # taking sum instead of product because we already took the log\n",
    "#   can also find pdf and then take sum instead...gives the same result, but with a warning message. \n",
    "#     pdf = norm.pdf(meas,loc=xgrid[i],scale=uncert)\n",
    "#     probsum.append(np.product(pdf))\n",
    "L = np.array(sums) # can do 'probsum' for pdf case\n",
    "    \n",
    "sigma_mu = np.diff(L, n=2)\n",
    "sigma_mu /= (xgrid[1]-xgrid[0])**2\n",
    "sigma_mu *= -1\n",
    "sigma_mu = 1/np.sqrt(sigma_mu)[0]\n",
    "\n",
    "print(\"Fisher matrix error on estimated mean is %.3f\" % sigma_mu)"
   ]
  },
  {
   "cell_type": "markdown",
   "metadata": {},
   "source": [
    "## 4)"
   ]
  },
  {
   "cell_type": "code",
   "execution_count": 6,
   "metadata": {
    "scrolled": true
   },
   "outputs": [],
   "source": [
    "import random\n",
    "from random import choices\n",
    "\n",
    "# function to generate 1000 bootstrap realizations of the dataset\n",
    "def bootsp(mean,sigma,resample=1000):\n",
    "    length = len(mean)\n",
    "    mean_array,sigma_array = [],[]\n",
    "    for i in range(resample):\n",
    "        # sampling indices so that measurements & uncertainties stay paired together\n",
    "        idxs = choices(np.arange(0,length,1),k=length)\n",
    "        sample_mean = mean[idxs] \n",
    "        sample_sigma = sigma[idxs]\n",
    "        # append each bootstrap realization of the data\n",
    "        mean_array.append(sample_mean)\n",
    "        sigma_array.append(sample_sigma)\n",
    "    return mean_array,sigma_array\n",
    "\n",
    "# generating 1000 bootstrap realizations of this dataset\n",
    "bootstrap_means, bootstrap_sig  = bootsp(meas,uncert)"
   ]
  },
  {
   "cell_type": "markdown",
   "metadata": {},
   "source": [
    "## 5)"
   ]
  },
  {
   "cell_type": "code",
   "execution_count": 7,
   "metadata": {},
   "outputs": [
    {
     "data": {
      "image/png": "[encoded data removed]",
      "text/plain": [
       "<Figure size 432x288 with 1 Axes>"
      ]
     },
     "metadata": {
      "needs_background": "light"
     },
     "output_type": "display_data"
    },
    {
     "name": "stdout",
     "output_type": "stream",
     "text": [
      "The histogram of bootstrap means agrees with the Gaussian pdf\n"
     ]
    }
   ],
   "source": [
    "boot_means = []\n",
    "# using each bootstrap realization of the data, find the best-fit mean\n",
    "# the mean is the model parameter, and we want to map the uncertainty of this parameter\n",
    "\n",
    "for i in range(len(bootstrap_means)):\n",
    "    # using the same procedure as problem (2)\n",
    "    f_boot = lambda beta: squared_loss(beta, xi=bootstrap_means[i], sigma=bootstrap_sig[i])\n",
    "\n",
    "    beta0 = 4 # initial guess for mu\n",
    "    beta_squared = optimize.fmin(f_boot, beta0,disp=False)\n",
    "\n",
    "    boot_means.append(beta_squared[0])\n",
    "\n",
    "# plot a normalized histogram of the best-fit means from the different bootstrap realizations\n",
    "x = np.linspace(3.5, 4.5, 1000)\n",
    "dist = norm(sample_mu,error)\n",
    "plt.hist(boot_means,bins=50,density=True,histtype='step',color='b',label='bootstrap means')\n",
    "# overplot a Gaussian pdf with mean and std found in (1)\n",
    "plt.plot(x,dist.pdf(x),c='gray',label=r'pdf ($\\mu=$'+str(round(sample_mu,2))+r', $\\sigma=$'+str(round(error,2))+')')\n",
    "plt.xlabel(r'$x$',fontsize=12)\n",
    "plt.ylabel(r'$p(x|\\mu,\\sigma)$',fontsize=12)\n",
    "plt.legend(loc='upper right')\n",
    "plt.show()\n",
    "print('The histogram of bootstrap means agrees with the Gaussian pdf')"
   ]
  },
  {
   "cell_type": "markdown",
   "metadata": {},
   "source": [
    "## 6)"
   ]
  },
  {
   "cell_type": "code",
   "execution_count": 8,
   "metadata": {},
   "outputs": [
    {
     "name": "stdout",
     "output_type": "stream",
     "text": [
      "best-fit loc. parameter:  4.088288159375196\n",
      "best-fit scale. parameter:  0.8822692335377051\n"
     ]
    }
   ],
   "source": [
    "# Defining ln-likelihood function for Laplace distribution \n",
    "from scipy.stats import laplace\n",
    "\n",
    "def laplace_likelihood(mu, delta, xi):\n",
    "    # here, the model parameters are mu and delta\n",
    "    likelihood = laplace.logpdf(xi,loc=mu,scale=delta)\n",
    "# reason for -ve sign: optimize finds the function minimum, but we want to maximize the ln-likelihood, not minimize it\n",
    "    return -np.sum(likelihood)\n",
    "# can also use this (almost like the laplace version of minimizing the chi^2)\n",
    "#     return np.sum(abs(xi - mu)/delta - np.log(1/(2*delta))) # negative sign has been accounted for.\n",
    "\n",
    "f_laplace = lambda beta: laplace_likelihood(beta[0], beta[1], xi=meas) # could put the -ve here instead\n",
    "\n",
    "# compute the maximum likelihood \n",
    "beta0 = [4,1] # initial guess\n",
    "beta_laplace = optimize.fmin(f_laplace, beta0, disp=False) \n",
    "\n",
    "print('best-fit loc. parameter: ',beta_laplace[0])\n",
    "print('best-fit scale. parameter: ',beta_laplace[1])"
   ]
  },
  {
   "cell_type": "markdown",
   "metadata": {},
   "source": [
    "## 7)"
   ]
  },
  {
   "cell_type": "code",
   "execution_count": 9,
   "metadata": {},
   "outputs": [
    {
     "name": "stdout",
     "output_type": "stream",
     "text": [
      "AIC for Gaussian:  174.7883864769012\n",
      "AIC for Laplacian:  596.8039962474634\n",
      "The model favored by the data is the Gaussian, because its AIC value is smaller. \n",
      "This makes sense because the original data is Gaussian.\n"
     ]
    }
   ],
   "source": [
    "# Finding the AIC values for the heteroscedastic Gaussian model and the Laplacian model\n",
    "def AIC(L_0,k,N):\n",
    "    aic = -2*L_0 + 2*k + 2*k*(k+1)/(N-k-1)\n",
    "    return aic\n",
    "\n",
    "# we take the negative here, because earlier we took the negative of our functions to use in optimize.fit \n",
    "# reason for taking -ve: the functions were designed to be minimized by scipy optimize,\n",
    "# but we want the maximum ln-likelihood \n",
    "print('AIC for Gaussian: ',AIC(-squared_loss(beta_squared[0],meas,uncert), 1, len(meas)))\n",
    "print('AIC for Laplacian: ',AIC(-laplace_likelihood(beta_laplace[0],meas,beta_laplace[1]), 2, len(meas)))\n",
    "print('The model favored by the data is the Gaussian, because its AIC value is smaller.',\n",
    "     '\\nThis makes sense because the original data is Gaussian.')"
   ]
  },
  {
   "cell_type": "markdown",
   "metadata": {},
   "source": [
    "## 8)"
   ]
  },
  {
   "cell_type": "code",
   "execution_count": 10,
   "metadata": {},
   "outputs": [
    {
     "data": {
      "image/png": "[encoded data removed]",
      "text/plain": [
       "<Figure size 396x396 with 4 Axes>"
      ]
     },
     "metadata": {
      "needs_background": "light"
     },
     "output_type": "display_data"
    }
   ],
   "source": [
    "# similar to (5)\n",
    "# using each bootstrap realization of the data, find the best-fit μ and Δ\n",
    "bootlap_means = []\n",
    "bootlap_delta = []\n",
    "for i in range(len(bootstrap_means)):\n",
    "    \n",
    "    f_bootlaplace = lambda betaboot: laplace_likelihood(betaboot[0], betaboot[1], xi=bootstrap_means[i])\n",
    "    \n",
    "    # compute the maximum likelihood \n",
    "    beta0 = [4,1] # initial guess\n",
    "    beta_bootlaplace = optimize.fmin(f_bootlaplace, beta0, disp=False)\n",
    "    # record best-fit μ/Δ from the different bootstrap realizations\n",
    "    bootlap_means.append(beta_bootlaplace[0])\n",
    "    bootlap_delta.append(beta_bootlaplace[1])\n",
    "    \n",
    "# corner plot of the distributions of μ and Δ showing the marginal 1D distributions and the joint 2D distribution\n",
    "import corner\n",
    "\n",
    "combined = np.array([bootlap_means,bootlap_delta])\n",
    "\n",
    "# 16% and 84% are 1_sigma quantiles for non-Gaussian distributions (see Lecture 3)\n",
    "# 84%-16% = 68%, so the 1D plots are showing the 68% confidence interval\n",
    "# levels: 68% is inner contour line, 95% is outer contour line\n",
    "# Note: replace 'combined.T' with 'np.array(bootlap_means)' or 'np.array(bootlap_delta)' to view individual 1D plots\n",
    "fig = corner.corner(combined.T, quantiles=(0.16, 0.84), levels=(0.68,0.95), labels=['bootstrap μ','bootstrap Δ']\n",
    "                    ,titles=['μ_distribution','Δ_distribution'],show_titles=True) \n",
    "        # note to self: 'chain consumer' makes better plots than corner"
   ]
  },
  {
   "cell_type": "markdown",
   "metadata": {},
   "source": [
    "## 9)"
   ]
  },
  {
   "cell_type": "code",
   "execution_count": 11,
   "metadata": {},
   "outputs": [
    {
     "name": "stdout",
     "output_type": "stream",
     "text": [
      "[[0.1092308  0.0071103 ]\n",
      " [0.0071103  0.08822814]]\n",
      "The diagonal entries of the matrix are the Fisher uncertainties on μ and Δ. \n",
      "These values closely match the widths (standard deviations) of the bootstrap distributions found in (8), i.e.,\n",
      " \n",
      "std of bootstrap μ: 0.07388908290118788\n",
      "std of bootstrap Δ: 0.1320225004899052\n"
     ]
    }
   ],
   "source": [
    "# Finding Fisher uncertainty estimate of the Laplacian parameters\n",
    "# Using numdifftools to compute the Hessian matrix (matrix of the second derivatives of the 'f_laplace'function)\n",
    "# at the best-fit μ and Δ\n",
    "H = nd.Hessian(f_laplace)([beta_laplace[0], beta_laplace[1]])\n",
    "# invert the matrix and take square root\n",
    "sigma_laplace = np.linalg.inv(H)**0.5\n",
    "\n",
    "print(sigma_laplace)\n",
    "print('The diagonal entries of the matrix are the Fisher uncertainties on μ and Δ.',\n",
    " '\\nThese values closely match the widths (standard deviations) of the bootstrap distributions found in (8), i.e.,\\n',\n",
    " '\\nstd of bootstrap μ: '+str(np.std(bootlap_delta))+'\\nstd of bootstrap Δ: '+str(np.std(bootlap_means)))\n",
    "# note to self: '0.0071103' this is the sqrt(covariance); the degree of how the uncertainty in one parameter \n",
    "# is connected to the uncertainty in another parameter.\n",
    "# corner plot would've had a more diagonal ellipse appearance if these parameters had stronger correlation."
   ]
  },
  {
   "cell_type": "code",
   "execution_count": null,
   "metadata": {},
   "outputs": [],
   "source": []
  }
 ],
 "metadata": {
  "anaconda-cloud": {},
  "kernelspec": {
   "display_name": "Python [conda env:astr8070] *",
   "language": "python",
   "name": "conda-env-astr8070-py"
  },
  "language_info": {
   "codemirror_mode": {
    "name": "ipython",
    "version": 3
   },
   "file_extension": ".py",
   "mimetype": "text/x-python",
   "name": "python",
   "nbconvert_exporter": "python",
   "pygments_lexer": "ipython3",
   "version": "3.8.12"
  }
 },
 "nbformat": 4,
 "nbformat_minor": 2
}
