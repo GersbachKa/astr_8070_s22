{
 "cells": [
  {
   "cell_type": "markdown",
   "metadata": {},
   "source": [
    "### ASTR 8070: Astrostatistics\n",
    "***S. R. Taylor***\n",
    "___\n",
    "\n",
    "# Homework 3\n",
    "### Due: Saturday, Feb 12th at 11.59pm CST\n",
    "---"
   ]
  },
  {
   "cell_type": "markdown",
   "metadata": {},
   "source": [
    "## Only one problem this week\n",
    "\n",
    "This problem uses a dataset in `/coursework/homeworks/hw_data/`.\n",
    "\n",
    "1) Read in `hw3_data_1.npy`. This is a (50 x 2) numpy array, with measurements in the first column and uncertainties in the second column. Using the analytic results for heteroscedastic Gaussian data from lectures, compute the sample mean and the standard error on the sample mean from for this data.\n",
    "\n",
    "2) Reusing some approaches and tools from `Lecture_6`, write a ln-likelihood function for heteroscedastic Gaussian data, and use it in a fitting algorithm to find the best-fit mean. *Remember that scipy optimizers are set up to minimize functions.*\n",
    "\n",
    "3) Using the same numerical technique from `Lecture_5`, compute the Fisher uncertainty estimate on the mean.\n",
    "\n",
    "4) Using the bootstrap method, generate $1000$ bootstrap realizations of this dataset. *DO NOT use the `astroML` code. Write your own bootstrap function from scratch. Also recall that when resampling data, measurements and uncertainties should stay paired together.*\n",
    "\n",
    "5) Repeat (2) with all $1000$ boostrap datasets to find the distribution of the sample mean. Plot a normalized histogram of these bootstrap means, and overplot a Gaussian pdf with the mean and std found in (1). Do these agree?\n",
    "\n",
    "6) While we have fitted a heteroscedastic Gaussian to this data, let's try something else. Write some code to define a ln-likelihood for a Laplace distribution evaluated on this data. Fit simultaneously for the Laplace location parameter $\\mu$ and scale parameter $\\Delta$.\n",
    "\n",
    "7) Compute the AIC values for the heteroscedastic Gaussian model and the Laplacian model. Which model is favored by the data?\n",
    "\n",
    "8) Using the $1000$ bootstrap datasets from before, fit for the Laplacian $\\mu$ and $\\Delta$ for each. Make a nice `corner` plot of the distributions of $\\mu$ and $\\Delta$ that shows both the marginal $1$D distributions and the joint $2$D distribution. Make sure the plot has labels, shows the titles on each $1$D marginal panel, and has $68\\%$ and $95\\%$ levels.\n",
    "\n",
    "9) Let's finish with a Fisher uncertainty estimate of the Laplacian parameters. Use the following code to install `numdifftools` which provides a simple way to compute derivatives. We can then compute the Hessian matrix, which is the matrix of the second derivatives of the user's function. This should be computed at the best-fit Laplacian parameters $\\mu$ and $\\Delta$. To finish, invert the matrix, and then take the square root. The diagonal entries will then be the Fisher uncertainties on $\\mu$ and $\\Delta$. How does these compare to the bootstrap distribution widths found in (8)?"
   ]
  },
  {
   "cell_type": "code",
   "execution_count": 7,
   "metadata": {
    "collapsed": true
   },
   "outputs": [
    {
     "name": "stdout",
     "output_type": "stream",
     "text": [
      "Requirement already satisfied: numdifftools in /opt/anaconda3/envs/astr8070/lib/python3.8/site-packages (0.9.40)\n",
      "Requirement already satisfied: statsmodels>=0.6 in /opt/anaconda3/envs/astr8070/lib/python3.8/site-packages (from numdifftools) (0.13.1)\n",
      "Requirement already satisfied: numpy>=1.9 in /opt/anaconda3/envs/astr8070/lib/python3.8/site-packages (from numdifftools) (1.22.0)\n",
      "Requirement already satisfied: scipy>=0.8 in /opt/anaconda3/envs/astr8070/lib/python3.8/site-packages (from numdifftools) (1.7.3)\n",
      "Requirement already satisfied: algopy>=0.4 in /opt/anaconda3/envs/astr8070/lib/python3.8/site-packages (from numdifftools) (0.5.7)\n",
      "Requirement already satisfied: pandas>=0.25 in /opt/anaconda3/envs/astr8070/lib/python3.8/site-packages (from statsmodels>=0.6->numdifftools) (1.4.0)\n",
      "Requirement already satisfied: patsy>=0.5.2 in /opt/anaconda3/envs/astr8070/lib/python3.8/site-packages (from statsmodels>=0.6->numdifftools) (0.5.2)\n",
      "Requirement already satisfied: pytz>=2020.1 in /opt/anaconda3/envs/astr8070/lib/python3.8/site-packages (from pandas>=0.25->statsmodels>=0.6->numdifftools) (2021.3)\n",
      "Requirement already satisfied: python-dateutil>=2.8.1 in /opt/anaconda3/envs/astr8070/lib/python3.8/site-packages (from pandas>=0.25->statsmodels>=0.6->numdifftools) (2.8.2)\n",
      "Requirement already satisfied: six in /opt/anaconda3/envs/astr8070/lib/python3.8/site-packages (from patsy>=0.5.2->statsmodels>=0.6->numdifftools) (1.16.0)\n"
     ]
    }
   ],
   "source": [
    "!pip install numdifftools"
   ]
  },
  {
   "cell_type": "code",
   "execution_count": 8,
   "metadata": {},
   "outputs": [
    {
     "ename": "NameError",
     "evalue": "name 'f_lnlaplace' is not defined",
     "output_type": "error",
     "traceback": [
      "\u001b[0;31m---------------------------------------------------------------------------\u001b[0m",
      "\u001b[0;31mNameError\u001b[0m                                 Traceback (most recent call last)",
      "Input \u001b[0;32mIn [8]\u001b[0m, in \u001b[0;36m<module>\u001b[0;34m\u001b[0m\n\u001b[1;32m      1\u001b[0m \u001b[38;5;28;01mimport\u001b[39;00m \u001b[38;5;21;01mnumdifftools\u001b[39;00m \u001b[38;5;28;01mas\u001b[39;00m \u001b[38;5;21;01mnd\u001b[39;00m\n\u001b[0;32m----> 2\u001b[0m H \u001b[38;5;241m=\u001b[39m nd\u001b[38;5;241m.\u001b[39mHessian(\u001b[43mf_lnlaplace\u001b[49m)([beta_laplace[\u001b[38;5;241m0\u001b[39m], beta_laplace[\u001b[38;5;241m1\u001b[39m]])\n\u001b[1;32m      3\u001b[0m sigma_laplace \u001b[38;5;241m=\u001b[39m np\u001b[38;5;241m.\u001b[39mlinalg\u001b[38;5;241m.\u001b[39minv(H)\u001b[38;5;241m*\u001b[39m\u001b[38;5;241m*\u001b[39m\u001b[38;5;241m0.5\u001b[39m\n",
      "\u001b[0;31mNameError\u001b[0m: name 'f_lnlaplace' is not defined"
     ]
    }
   ],
   "source": [
    "import numdifftools as nd\n",
    "H = nd.Hessian(f_lnlaplace)([beta_laplace[0], beta_laplace[1]])\n",
    "sigma_laplace = np.linalg.inv(H)**0.5"
   ]
  },
  {
   "cell_type": "markdown",
   "metadata": {},
   "source": [
    "### Solution"
   ]
  },
  {
   "cell_type": "code",
   "execution_count": 29,
   "metadata": {},
   "outputs": [],
   "source": [
    "import numpy as np\n",
    "from matplotlib import pyplot as plt\n",
    "import scipy.stats\n",
    "from scipy.stats import norm\n",
    "from scipy import optimize"
   ]
  },
  {
   "cell_type": "code",
   "execution_count": 28,
   "metadata": {
    "scrolled": true
   },
   "outputs": [
    {
     "name": "stdout",
     "output_type": "stream",
     "text": [
      "sample mean:  3.9179920346060557\n",
      "standard error: 0.09481084100510954\n"
     ]
    }
   ],
   "source": [
    "# (1) Read in hw3_data_1.npy. This is a (50 x 2) numpy array, with measurements in the first column and \n",
    "# uncertainties in the second column. Using the analytic results for heteroscedastic Gaussian data from lectures, \n",
    "# compute the sample mean and the standard error on the sample mean from for this data.\n",
    "\n",
    "data = np.load(\"../../homeworks/hw_data/hw3_data_1.npy\") \n",
    "meas = np.array([i[0] for i in data])\n",
    "uncert = np.array([i[1] for i in data])\n",
    "# calculating sample mean and error from derivation in Lecture 5\n",
    "sample_mu = np.sum(meas/uncert**2)/np.sum(1/uncert**2)\n",
    "error = np.sum(1/uncert**2)**(-1/2)\n",
    "print('sample mean: ',sample_mu)\n",
    "print('standard error:',error)"
   ]
  },
  {
   "cell_type": "code",
   "execution_count": 49,
   "metadata": {},
   "outputs": [
    {
     "name": "stdout",
     "output_type": "stream",
     "text": [
      "Optimization terminated successfully.\n",
      "         Current function value: 86.325091\n",
      "         Iterations: 64\n",
      "         Function evaluations: 125\n"
     ]
    },
    {
     "data": {
      "text/plain": [
       "3.9179920414003684"
      ]
     },
     "execution_count": 49,
     "metadata": {},
     "output_type": "execute_result"
    }
   ],
   "source": [
    "# (2) Reusing some approaches and tools from Lecture_6, write a ln-likelihood function for heteroscedastic \n",
    "# Gaussian data, and use it in a fitting algorithm to find the best-fit mean. Remember that scipy optimizers are \n",
    "# set up to minimize functions.\n",
    "\n",
    "# chi^2 = sum(((xi-mu)/sigma)^2)...ln-likelihood is chi^2 for gaussian\n",
    "def squared_loss(m, b, x, y, dy):\n",
    "    y_fit = m * x + b\n",
    "    return np.sum(((y - y_fit) / dy) ** 2, -1)\n",
    "\n",
    "# sample_mu_arr = np.full(shape=len(meas),fill_value=sample_mu)\n",
    "f_squared = lambda beta: squared_loss(beta[0], beta[1], \n",
    "                                      x=sample_mu, y=meas, \n",
    "                                      dy=uncert)\n",
    "\n",
    "#------------------------------------------------------------\n",
    "# compute the maximum likelihood \n",
    "beta0 = (1, 30) # initial guess for a and b\n",
    "beta_squared = optimize.fmin(f_squared, beta0)\n",
    "\n",
    "beta_squared[0] * sample_mu + beta_squared[1]"
   ]
  },
  {
   "cell_type": "code",
   "execution_count": 50,
   "metadata": {},
   "outputs": [
    {
     "data": {
      "text/plain": [
       "0.009481084100510954"
      ]
     },
     "execution_count": 50,
     "metadata": {},
     "output_type": "execute_result"
    }
   ],
   "source": [
    "# (3) Using the same numerical technique from Lecture_5, compute the Fisher uncertainty estimate on the mean.\n",
    "error/np.sqrt(len(meas))"
   ]
  },
  {
   "cell_type": "code",
   "execution_count": 134,
   "metadata": {
    "scrolled": true
   },
   "outputs": [],
   "source": [
    "# (4) Using the bootstrap method, generate  1000  bootstrap realizations of this dataset. DO NOT use the astroML code. \n",
    "# Write your own bootstrap function from scratch. Also recall that when resampling data, measurements and \n",
    "# uncertainties should stay paired together.\n",
    "\n",
    "import random\n",
    "from random import choices\n",
    "\n",
    "def bootsp(mean,sigma,resample=1000):\n",
    "    length = len(mean)\n",
    "    mean_array,sigma_array = [],[]\n",
    "    for i in range(resample):\n",
    "        # sampling indices so that measurements & uncertainties stay paired together\n",
    "        idxs = choices(np.arange(0,length,1),k=length)\n",
    "        sample_mean = mean[idxs] #choices(mean,k=length)\n",
    "        sample_sigma = sigma[idxs]#choices(sigma,k=length)\n",
    "        mu_val = np.mean(sample_mean)\n",
    "        sig_val = np.mean(sample_sigma)\n",
    "        mean_array.append(mu_val)\n",
    "        sigma_array.append(sig_val)\n",
    "    boot_mean = np.mean(mean_array)\n",
    "    boot_sigma = np.std(sigma_array)\n",
    "    return mean_array,sigma_array,boot_mean,boot_sigma\n",
    "\n",
    "# print('bootstrap mean: ',bootsp(meas,uncert)[0])\n",
    "# print('bootstrap sigma: ',bootsp(meas,uncert)[1])"
   ]
  },
  {
   "cell_type": "code",
   "execution_count": 124,
   "metadata": {},
   "outputs": [
    {
     "data": {
      "text/plain": [
       "array(['Y', 'G', 'B', 'R'], dtype='<U1')"
      ]
     },
     "execution_count": 124,
     "metadata": {},
     "output_type": "execute_result"
    }
   ],
   "source": [
    "colors = [\"R\", \"G\", \"B\", \"Y\"]\n",
    "choices(colors,k=4)\n",
    "np.random.choice(colors,size=4, replace=True)"
   ]
  },
  {
   "cell_type": "code",
   "execution_count": 152,
   "metadata": {},
   "outputs": [
    {
     "data": {
      "image/png": "[encoded data removed]",
      "text/plain": [
       "<Figure size 432x288 with 1 Axes>"
      ]
     },
     "metadata": {
      "needs_background": "light"
     },
     "output_type": "display_data"
    }
   ],
   "source": [
    "# (5) Repeat (2) with all  1000  boostrap datasets to find the distribution of the sample mean. Plot a normalized \n",
    "# histogram of these bootstrap means, and overplot a Gaussian pdf with the mean and std found in (1). Do these agree?\n",
    "bootstrap_means = bootsp(meas,uncert)[0]\n",
    "x = np.linspace(3.5, 4.5, 1000)\n",
    "dist = scipy.stats.norm(sample_mu,error)\n",
    "plt.hist(bootstrap_means,bins=50,density=True,histtype='step',color='b',label='bootstrap means')\n",
    "plt.plot(x,dist.pdf(x),c='gray',label=r'pdf ($\\mu=$'+str(round(sample_mu,2))+r'$\\sigma=$'+str(round(error,2))+')')\n",
    "plt.xlabel(r'$x$',fontsize=12)\n",
    "plt.ylabel(r'$p(x|\\mu,\\sigma)$',fontsize=12)\n",
    "plt.legend(loc='upper right')\n",
    "plt.show()"
   ]
  },
  {
   "cell_type": "code",
   "execution_count": null,
   "metadata": {},
   "outputs": [],
   "source": [
    "# (6) While we have fitted a heteroscedastic Gaussian to this data, let's try something else. Write some code to \n",
    "# define a ln-likelihood for a Laplace distribution evaluated on this data. Fit simultaneously for the Laplace \n",
    "# location parameter 𝜇 and scale parameter Δ\n"
   ]
  }
 ],
 "metadata": {
  "anaconda-cloud": {},
  "kernelspec": {
   "display_name": "Python [conda env:astr8070] *",
   "language": "python",
   "name": "conda-env-astr8070-py"
  },
  "language_info": {
   "codemirror_mode": {
    "name": "ipython",
    "version": 3
   },
   "file_extension": ".py",
   "mimetype": "text/x-python",
   "name": "python",
   "nbconvert_exporter": "python",
   "pygments_lexer": "ipython3",
   "version": "3.8.12"
  }
 },
 "nbformat": 4,
 "nbformat_minor": 2
}
