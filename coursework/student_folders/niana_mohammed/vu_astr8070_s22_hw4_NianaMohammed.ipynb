{
 "cells": [
  {
   "cell_type": "markdown",
   "metadata": {},
   "source": [
    "### ASTR 8070: Astrostatistics\n",
    "***S. R. Taylor***\n",
    "___\n",
    "\n",
    "# Homework 4\n",
    "### Due: Saturday, Feb 26th at 11.59pm CST\n",
    "---"
   ]
  },
  {
   "cell_type": "markdown",
   "metadata": {},
   "source": [
    "## Problem 1\n",
    "\n",
    "This problem uses a dataset in `/coursework/homeworks/hw_data/`.\n",
    "\n",
    "1) Read in `hw4_data_1.npy`. This is a (10 x 2) numpy array, with voltage measurements in the first column and heteroscedastic voltage uncertainties in the second column. Compute the sample mean and the standard error on the sample mean for this data.\n",
    "\n",
    "2) Fit the appropriate ln-likelihood function and find the best-fit mean voltage.\n",
    "\n",
    "3) Compute and plot the Bayesian posterior probability density (*not the log posterior*) for the mean voltage assuming a uniform prior for the mean in the range 3 to 7. Make sure this posterior pdf is normalized!\n",
    "\n",
    "4) By either drawing samples from this posterior, or using your gridded posterior pdf to make a cdf, find the equal-tailed 68.3% credible region for the mean, and compare the upper and lower boundaries to the sample mean plus/minus the standard error, respectively. *Also* find the MAP value of the mean.\n",
    "\n",
    "5) Repeat (3) and (4) this time with a prior on the mean that is uniform in the range 4.6 to 5.4. \n",
    "\n",
    "6) Now, imagine that we read an old paper about the experiment that gave us the voltage measurements, and they found that the mean was actually $6\\pm0.3$. Repeat (3) and (4) this time with a Gaussian prior on the mean centered at $6$ with standard deviation of $0.3$.\n",
    "\n",
    "7) Plot all of the normalized posterior pdfs for $\\mu$ from (3), (5), and (6) on the same plot, making sure that the xlim of the plot spans 0 to 10.\n",
    "\n",
    "8) You have made sure that the posterior pdfs are properly normalized, but until now you have ignored the meaning of that normalization constant. It is the Bayesian evidence for the particular model you have applied! Compute the evidence under a new model where the prior for the mean is a delta function at the best-fit value you found in (1) *(think about this and don't just immediately go looking for a `scipy.stats` delta function)*. Compare this to the evidence found under the prior in (3). Taking ratios to make a Bayes factor, which model is favored? Is there much of an Occam penalty by having the wide prior compared to knowing the mean exactly? "
   ]
  },
  {
   "cell_type": "markdown",
   "metadata": {},
   "source": [
    "### Solution"
   ]
  },
  {
   "cell_type": "code",
   "execution_count": 1,
   "metadata": {},
   "outputs": [],
   "source": [
    "import numpy as np\n",
    "from matplotlib import pyplot as plt\n",
    "import scipy.stats\n",
    "from scipy.stats import norm\n",
    "from scipy.stats import uniform\n",
    "from scipy import optimize"
   ]
  },
  {
   "cell_type": "markdown",
   "metadata": {},
   "source": [
    "### (1)"
   ]
  },
  {
   "cell_type": "code",
   "execution_count": 2,
   "metadata": {},
   "outputs": [
    {
     "name": "stdout",
     "output_type": "stream",
     "text": [
      "sample mean:  4.942118214425304\n",
      "error on sample mean: 0.43024334605205083\n"
     ]
    }
   ],
   "source": [
    "# (1)\n",
    "# Loading hw4_data_1.npy\n",
    "data = np.load(\"../../homeworks/hw_data/hw4_data_1.npy\")\n",
    "# extracting voltage measurements and uncertainties\n",
    "meas = data[:,0] \n",
    "uncert = data[:,1]\n",
    "\n",
    "# Using heteroscedastic gaussian result from derivation in Lecture 5 \n",
    "# to calculate sample mean and error on sample mean \n",
    "sample_mu = np.sum(meas/uncert**2)/np.sum(1/uncert**2)\n",
    "error = np.sum(1/uncert**2)**(-1/2)\n",
    "print('sample mean: ',sample_mu)\n",
    "print('error on sample mean:',error)"
   ]
  },
  {
   "cell_type": "markdown",
   "metadata": {},
   "source": [
    "### (2)"
   ]
  },
  {
   "cell_type": "code",
   "execution_count": 3,
   "metadata": {},
   "outputs": [
    {
     "name": "stdout",
     "output_type": "stream",
     "text": [
      "Best fit mean voltage:  4.942138671875\n"
     ]
    }
   ],
   "source": [
    "# (2)\n",
    "# Writing ln-likelihood function for Gaussian distribution, following approach from Lecture 6 & HW_3\n",
    "# For a Gaussian distribution, maximizing ln-likelihood is same as minimizing chi^2 (derivations in L5 & L6).\n",
    "def squared_loss(mu, xi, sigma):\n",
    "    # the only model parameter is mean value, a constant value\n",
    "    return np.sum(((xi - mu) / sigma) ** 2, -1) # data minus model, weighted by the noise\n",
    "\n",
    "# define a lambda function\n",
    "f_squared = lambda beta: squared_loss(beta[0], xi=meas, sigma=uncert)\n",
    "\n",
    "# compute the maximum likelihood \n",
    "beta0 = 5 # initial guess for mu\n",
    "beta_squared = optimize.fmin(f_squared, beta0, disp=False) # scipy optimize finds the function minimum\n",
    "\n",
    "print('Best fit mean voltage: ',beta_squared[0])"
   ]
  },
  {
   "cell_type": "markdown",
   "metadata": {},
   "source": [
    "### (3)"
   ]
  },
  {
   "cell_type": "code",
   "execution_count": 4,
   "metadata": {},
   "outputs": [
    {
     "data": {
      "image/png": "[encoded data removed]",
      "text/plain": [
       "<Figure size 432x288 with 1 Axes>"
      ]
     },
     "metadata": {
      "needs_background": "light"
     },
     "output_type": "display_data"
    }
   ],
   "source": [
    "# (3) \n",
    "# make a grid of mu values (mean voltage values)\n",
    "mu_grid = np.linspace(0,10,10000)\n",
    "# assuming a uniform prior for the mean in the range 3 to 7\n",
    "pri = np.repeat(1,len(mu_grid))/(7-3) \n",
    "# the prior exists only for mu values within the 3-7 range; prior should be 0 outside of that range.\n",
    "# prior will limit the posterior pdf to within this range.\n",
    "pri[(mu_grid<3)] = 0\n",
    "pri[(mu_grid>7)] = 0\n",
    "\n",
    "# find the likelihood\n",
    "probsum = []\n",
    "for i in range(len(mu_grid)):\n",
    "#   can also find pdf and then take the product\n",
    "    pdf = norm.pdf(meas,loc=mu_grid[i],scale=uncert) # same thing as doing 'norm(meas,uncert).pdf(mu_grid[i])'\n",
    "    probsum.append(np.product(pdf))\n",
    "L = np.array(probsum)\n",
    "\n",
    "# find the Bayesian posterior probability density (not the log posterior)\n",
    "post = L*pri\n",
    "# normalize posterior\n",
    "normal_post = post/(np.sum(post) * (mu_grid[1]-mu_grid[0]))\n",
    "\n",
    "# plot the normalized posterior, normalized likelihood, and prior distributions\n",
    "plt.plot(mu_grid, post/(np.sum(post) * (mu_grid[1]-mu_grid[0])), label='posterior',c='b',lw=3)\n",
    "plt.plot(mu_grid, L/(np.sum(L) * (mu_grid[1]-mu_grid[0])), label='likelihood',c='orange',ls='--',lw=3)\n",
    "plt.plot(mu_grid, pri, label='prior',c='magenta', alpha=0.5, ls='--',lw=3)\n",
    "plt.xlabel('x',fontsize=12);plt.ylabel('pdf(x|data)',fontsize=12)\n",
    "plt.legend(fontsize=12)\n",
    "plt.show()"
   ]
  },
  {
   "cell_type": "markdown",
   "metadata": {},
   "source": [
    "SRT: Very nice."
   ]
  },
  {
   "cell_type": "markdown",
   "metadata": {},
   "source": [
    "### (4)"
   ]
  },
  {
   "cell_type": "code",
   "execution_count": 5,
   "metadata": {},
   "outputs": [
    {
     "name": "stdout",
     "output_type": "stream",
     "text": [
      "68% credible region = 4.508450845084509 to 5.375537553755375\n",
      "While sample mean plus/minus the standard error:\n",
      "4.511874868373253 to 5.372361560477355\n",
      "MAP value of the mean = 4.911811181118112\n"
     ]
    }
   ],
   "source": [
    "# (4) \n",
    "# Find the equal-tailed 68.3% credible region for the mean, and compare the upper and lower boundaries to \n",
    "# the sample mean plus/minus the standard error, respectively. Also find the MAP value of the mean.\n",
    "\n",
    "# drawing samples from the normalized posterior\n",
    "# note: the input for 'p' must be a probability. To convert 'normal_post' to a probability,\n",
    "# we must multiply by the infinitesimal '(mu_grid[1]-mu_grid[0])'. Doing 'p=post/np.sum(post)' also works.\n",
    "# 'p' input must sum to 1.\n",
    "samples = np.random.choice(mu_grid, size=10000, p=normal_post*(mu_grid[1]-mu_grid[0])) \n",
    "                                                                   \n",
    "# using code from Lecture 10 to find 68% region and MAP value\n",
    "# 68% equal-tailed credible region\n",
    "lower, upper = np.percentile(samples,q=16), np.percentile(samples,q=84)\n",
    "# MAP value\n",
    "hist, bins = np.histogram(samples, bins=50)\n",
    "bin_mid = 0.5 * (bins[1:] + bins[:-1])\n",
    "idx = np.argsort(hist)[-1]\n",
    "map_theta = bin_mid[idx]\n",
    "\n",
    "# Note to self: can find the credible region by finding the ppf (the inverse cdf or 'percentile')\n",
    "# hist = np.histogram(mu_grid, bins=50)\n",
    "# hist_dist = scipy.stats.rv_histogram((normal_post[:-1],mu_grid))\n",
    "# ppf = hist_dist.ppf(0.84) # or 0.16\n",
    "# And for MAP, substituting 'samples' with 'normal_post', & 'bins' with 'mu_grid'\n",
    "\n",
    "print('68% credible region = ' + str(lower) + ' to ' + str(upper))\n",
    "print('While sample mean plus/minus the standard error:')\n",
    "print(str(sample_mu-error),'to',str(sample_mu+error))\n",
    "print('MAP value of the mean = ' + str(map_theta))"
   ]
  },
  {
   "cell_type": "markdown",
   "metadata": {},
   "source": [
    "SRT: Very novel! I've never used np.random.choice in this way."
   ]
  },
  {
   "cell_type": "markdown",
   "metadata": {},
   "source": [
    "### (5)"
   ]
  },
  {
   "cell_type": "code",
   "execution_count": 6,
   "metadata": {},
   "outputs": [
    {
     "data": {
      "image/png": "[encoded data removed]",
      "text/plain": [
       "<Figure size 432x288 with 1 Axes>"
      ]
     },
     "metadata": {
      "needs_background": "light"
     },
     "output_type": "display_data"
    },
    {
     "name": "stdout",
     "output_type": "stream",
     "text": [
      "68% credible region = 4.735473547354736 to 5.239523952395239\n",
      "While sample mean plus/minus the standard error:\n",
      "4.511874868373253 to 5.372361560477355\n",
      "MAP value of the mean= 4.864156415641563\n"
     ]
    }
   ],
   "source": [
    "# (5) \n",
    "# Repeat (3) and (4) this time with a prior on the mean that is uniform in the range 4.6 to 5.4.\n",
    "\n",
    "# following same procedure as (3)\n",
    "pri = np.repeat(1,len(mu_grid))/(5.4-4.6)\n",
    "# the prior exists only for mu values within the 3-7 range; prior should be 0 outside of that range.\n",
    "pri[(mu_grid<4.6)] = 0\n",
    "pri[(mu_grid>5.4)] = 0 \n",
    "\n",
    "post2 = L*pri\n",
    "normal_post2 = post2/(np.sum(post2) * (mu_grid[1]-mu_grid[0]))\n",
    "\n",
    "plt.plot(mu_grid, normal_post2, label='posterior',c='b',lw=3)\n",
    "plt.plot(mu_grid, L/(np.sum(L) * (mu_grid[1]-mu_grid[0])), label='likelihood',c='orange',ls='--',lw=3)\n",
    "plt.plot(mu_grid, pri, label='prior',c='magenta',alpha=0.5,ls='--',lw=3)\n",
    "plt.xlabel('x',fontsize=12);plt.ylabel('pdf(x|data)',fontsize=12)\n",
    "plt.legend(fontsize=12)\n",
    "plt.show()\n",
    "\n",
    "# following same procedure as (4)\n",
    "# drawing samples from the normalized posterior to find 68% credible region and MAP value\n",
    "samples = np.random.choice(mu_grid, size=10000, p=normal_post2*(mu_grid[1]-mu_grid[0])) \n",
    "                                                                   \n",
    "# 68% equal-tailed credible region\n",
    "lower, upper = np.percentile(samples,q=16), np.percentile(samples,q=84)\n",
    "# MAP value\n",
    "hist, bins = np.histogram(samples, bins=50)\n",
    "bin_mid = 0.5 * (bins[1:] + bins[:-1])\n",
    "idx = np.argsort(hist)[-1]\n",
    "map_theta = bin_mid[idx]\n",
    "\n",
    "print('68% credible region = ' + str(lower) + ' to ' + str(upper))\n",
    "print('While sample mean plus/minus the standard error:')\n",
    "print(str(sample_mu-error),'to',str(sample_mu+error))\n",
    "print('MAP value of the mean= ' + str(map_theta))"
   ]
  },
  {
   "cell_type": "markdown",
   "metadata": {},
   "source": [
    "### (6)"
   ]
  },
  {
   "cell_type": "code",
   "execution_count": 8,
   "metadata": {},
   "outputs": [
    {
     "data": {
      "image/png": "[encoded data removed]",
      "text/plain": [
       "<Figure size 432x288 with 1 Axes>"
      ]
     },
     "metadata": {
      "needs_background": "light"
     },
     "output_type": "display_data"
    },
    {
     "name": "stdout",
     "output_type": "stream",
     "text": [
      "68% credible region = 5.40954095409541 to 5.8945894589458945\n",
      "While sample mean plus/minus the standard error:\n",
      "4.511874868373253 to 5.372361560477355\n",
      "MAP value of the mean= 5.7419341934193415\n"
     ]
    }
   ],
   "source": [
    "# (6)  \n",
    "# Repeat (3) and (4) this time with a Gaussian prior on the mean centered at 6 with standard deviation of 0.3\n",
    "\n",
    "# following similar procedure to (3)\n",
    "# gaussian prior on mu centered at 6 with std of 0.3\n",
    "pri = norm.pdf(mu_grid,6,0.3)\n",
    "\n",
    "post3 = L*pri\n",
    "normal_post3 = post3/(np.sum(post3) * (mu_grid[1]-mu_grid[0]))\n",
    "\n",
    "plt.plot(mu_grid, normal_post3, label='posterior',c='b',lw=3)\n",
    "plt.plot(mu_grid, L/(np.sum(L) * (mu_grid[1]-mu_grid[0])), label='likelihood',c='orange',lw=3)\n",
    "plt.plot(mu_grid, pri, label='prior',c='magenta', alpha=0.5, ls='--',lw=3)\n",
    "plt.xlabel('x',fontsize=12);plt.ylabel('pdf(x|data)',fontsize=12)\n",
    "plt.legend(fontsize=12)\n",
    "plt.show()\n",
    "\n",
    "# following same procedure as (4)\n",
    "# drawing samples from the normalized posterior to find 68% credible region and MAP value\n",
    "samples = np.random.choice(mu_grid, size=10000, p=normal_post3*(mu_grid[1]-mu_grid[0])) \n",
    "                                                                   \n",
    "# 68% equal-tailed credible region\n",
    "lower, upper = np.percentile(samples,q=16), np.percentile(samples,q=84)\n",
    "# MAP value\n",
    "hist, bins = np.histogram(samples, bins=50)\n",
    "bin_mid = 0.5 * (bins[1:] + bins[:-1])\n",
    "idx = np.argsort(hist)[-1]\n",
    "map_theta = bin_mid[idx]\n",
    "\n",
    "print('68% credible region = ' + str(lower) + ' to ' + str(upper))\n",
    "print('While sample mean plus/minus the standard error:')\n",
    "print(str(sample_mu-error),'to',str(sample_mu+error))\n",
    "print('MAP value of the mean= ' + str(map_theta))"
   ]
  },
  {
   "cell_type": "markdown",
   "metadata": {},
   "source": [
    "SRT: Excellent, Niana."
   ]
  },
  {
   "cell_type": "markdown",
   "metadata": {},
   "source": [
    "### (7)"
   ]
  },
  {
   "cell_type": "code",
   "execution_count": 9,
   "metadata": {},
   "outputs": [
    {
     "data": {
      "image/png": "[encoded data removed]",
      "text/plain": [
       "<Figure size 432x288 with 1 Axes>"
      ]
     },
     "metadata": {
      "needs_background": "light"
     },
     "output_type": "display_data"
    }
   ],
   "source": [
    "# (7) \n",
    "# Plot all of the normalized posterior pdfs for  𝜇  from (3), (5), and (6) on the same plot, making sure \n",
    "# that the xlim of the plot spans 0 to 10.\n",
    "\n",
    "plt.plot(mu_grid, normal_post, label='posterior 1',c='g',lw=3)\n",
    "plt.plot(mu_grid, normal_post2, label='posterior 2',c='r',lw=3)\n",
    "plt.plot(mu_grid, normal_post3, label='posterior 3',c='k',lw=3)\n",
    "plt.xlabel('x',fontsize=12);plt.ylabel('pdf(x|data)',fontsize=12)\n",
    "plt.legend(fontsize=12)\n",
    "plt.xlim(0,10)\n",
    "plt.show()"
   ]
  },
  {
   "cell_type": "markdown",
   "metadata": {},
   "source": [
    "### (8)"
   ]
  },
  {
   "cell_type": "code",
   "execution_count": 12,
   "metadata": {},
   "outputs": [
    {
     "name": "stdout",
     "output_type": "stream",
     "text": [
      "Evidence under uniform prior: 2.8918714615457667e-08\n",
      "Evidence under delta fcn. prior: 1.0725967252258747e-07\n",
      "\n",
      "Bayes factor (B12) =  0.2696140491140113 \n",
      "\n",
      "Model under Delta function prior (model 2) is more probable than model under Uniform prior (model 1).\n",
      "Think makes sense because the delta function gives the exact mean, and should therefore be the better model.\n",
      "Regarding Occam penalty: The model with the delta function prior (the less complex model) is favored. This proof of that lies in that the evidence under the delta function prior is higher than that under a uniform prior.\n"
     ]
    }
   ],
   "source": [
    "# (8)\n",
    "# Bayesian evidence and Bayes factor\n",
    "\n",
    "# The normalization constant used to normalize the posterior pdfs in previous cells is the Bayesian evidence \n",
    "# for the particular model applied.\n",
    "evidence1 = np.sum(post) * (mu_grid[1]-mu_grid[0])\n",
    "\n",
    "# Computing the evidence under a new model where the prior for the mean is a delta function at the best-fit value \n",
    "# found in (2).\n",
    "from scipy import signal\n",
    "\n",
    "# finding the closest element to 'beta_squared[0]' in the mu_grid array\n",
    "value = beta_squared[0]\n",
    "absolute_val_array = np.abs(mu_grid - value)\n",
    "smallest_difference_index = absolute_val_array.argmin()\n",
    "closest_element = mu_grid[smallest_difference_index]\n",
    "idx = smallest_difference_index\n",
    "\n",
    "# prior for the mean is a delta function at the best-fit value found in (2)\n",
    "# the delta function=1, and 0 everywhere that it's not the value at 'mu_grid[idx]'\n",
    "prior = signal.unit_impulse(len(mu_grid),idx) \n",
    "\n",
    "# find the posterior using this new prior\n",
    "post_new = L*prior\n",
    "\n",
    "# The sum of 'post_new' should be the Bayesian evidence for this model.\n",
    "# Note to self: don't need to include the infinitesimal in evidence calculation; the delta function is \n",
    "# already normalized so that it takes into account that infinitesimal.\n",
    "# Will get the same thing if we find the likelihood at the location of the delta function spike 'L[idx]',\n",
    "# or find the posterior pdf at the position of the delta function 'post_new[idx]'. \n",
    "# i.e., Evidence = np.sum(post_new) == L[idx] == post_new[idx]\n",
    "evidence2 = np.sum(post_new) #* (mu_grid[1]-mu_grid[0])\n",
    "print('Evidence under uniform prior:',evidence1)\n",
    "print('Evidence under delta fcn. prior:',evidence2)\n",
    "\n",
    "# Taking ratios to make a Bayes factor, to see which model is favored?\n",
    "odds = evidence1/evidence2\n",
    "print('\\nBayes factor (B12) = ',odds,\n",
    "      '\\n\\nModel under Delta function prior (model 2) is more probable than model under Uniform prior (model 1).')\n",
    "print('Think makes sense because the delta function gives the exact mean, and should therefore be the better model.')\n",
    "\n",
    "# Is there much of an Occam penalty by having the wide prior compared to knowing the mean exactly?\n",
    "\n",
    "# Note to self: From Lecture 9, Occam penalty: All else being equal, the less complex model is favored.\n",
    "# The model that has no free parameters (the one that's a delta function at the true value) is going to be better \n",
    "# than one where we're searching over a wide prior range for this parameter. The evidence is going to be higher\n",
    "# whenever we know exactly what the parameter is compared to having to search over it.\n",
    "print('Regarding Occam penalty: The model with the delta function prior (the less complex model) is favored.',\n",
    "     'This proof of that lies in that the evidence under the delta function prior is higher than that under a',\n",
    "     'uniform prior.')"
   ]
  },
  {
   "cell_type": "markdown",
   "metadata": {},
   "source": [
    "SRT: Excellent work."
   ]
  },
  {
   "cell_type": "markdown",
   "metadata": {},
   "source": [
    "## Problem 2\n",
    "\n",
    "This problem uses a dataset in `/coursework/homeworks/hw_data/`.\n",
    "\n",
    "1) Read in `hw4_data_2.npy`, which is a (3 x 20) numpy array that you used in `Lecture_9`. Set `x, y, sigma_y = data`. \n",
    "\n",
    "We're going to do some polynomial fits to this data just like in the lecture. However, in all cases you should **keep the $y$-intercept fixed at $-0.23$**. \n",
    "\n",
    "2) Use the following code to compute the un-normalized posterior pdf (i.e. just the likelihood x prior) on a grid of the linear coefficient (i.e. the slope) of a linear model, with a uniform prior between 0.5 and 1.5. Plot this posterior pdf. Remember this is just a one-dimensional model because the $y$-intercept is fixed. I advise a grid size of 100."
   ]
  },
  {
   "cell_type": "code",
   "execution_count": 13,
   "metadata": {},
   "outputs": [],
   "source": [
    "#Functions to do a polynomial fit, and compute the likelihood\n",
    "def polynomial_fit(theta, x):\n",
    "    \"\"\"Polynomial model of degree (len(theta) - 1)\"\"\"\n",
    "    # For a polynomial with order 1, this gives theta_0 + theta_1*x\n",
    "    # For a polynomial with order 2, this gives theta_0 + theta_1*x + theta_2*x^2, etc.\n",
    "    return sum(t * x ** n for (n, t) in enumerate(theta))\n",
    "\n",
    "# compute the data log-likelihood given a model\n",
    "def logL(theta, data, model=polynomial_fit):\n",
    "    \"\"\"Gaussian log-likelihood of the model at theta\"\"\"\n",
    "    x, y, sigma_y = data\n",
    "    y_fit = model(theta, x)\n",
    "    return sum(scipy.stats.norm.logpdf(*args) \n",
    "               for args in zip(y, y_fit, sigma_y))"
   ]
  },
  {
   "cell_type": "markdown",
   "metadata": {},
   "source": [
    "3) Using your 1D gridded likelihood-x-prior, compute the Bayesian evidence of this linear model. This may be a big number!\n",
    "\n",
    "4) Now compute the joint 2D posterior pdf (again just the likelihood x prior) of linear and quadratic coefficients of a quadratic model. Give the linear coefficient a uniform prior between 0.5 and 1.5. Give the quadratic coefficient a uniform prior between -1 and 0.25. Plot this two-dimensional posterior. Remember this is a two-dimensional model because the $y$-intercept is fixed. I advise a grid size of 100 in each model dimension.\n",
    "\n",
    "5) Using your 2D gridded likelihood-x-prior, compute the Bayesian evidence of the quadratic model. \n",
    "\n",
    "6) Calculate the Bayes factor for a linear versus quadratic model. How does this compare/contrast with the BIC model comparison in the lecture? "
   ]
  },
  {
   "cell_type": "markdown",
   "metadata": {},
   "source": [
    "### Solution"
   ]
  },
  {
   "cell_type": "markdown",
   "metadata": {},
   "source": [
    "### (1)"
   ]
  },
  {
   "cell_type": "code",
   "execution_count": 14,
   "metadata": {},
   "outputs": [],
   "source": [
    "# (1) Read in hw4_data_2.npy, a (3 x 20) numpy array that you used in Lecture_9.\n",
    "data2 = np.load(\"../../homeworks/hw_data/hw4_data_2.npy\")\n",
    "# x, y, sigma_y = data2"
   ]
  },
  {
   "cell_type": "markdown",
   "metadata": {},
   "source": [
    "### (2)"
   ]
  },
  {
   "cell_type": "code",
   "execution_count": 22,
   "metadata": {},
   "outputs": [
    {
     "data": {
      "image/png": "[encoded data removed]",
      "text/plain": [
       "<Figure size 432x288 with 1 Axes>"
      ]
     },
     "metadata": {
      "needs_background": "light"
     },
     "output_type": "display_data"
    }
   ],
   "source": [
    "# (2) \n",
    "# using the given functions to compute the un-normalized posterior pdf on a grid of the linear coefficient \n",
    "# of a linear model, with a uniform prior between 0.5 and 1.5.\n",
    "\n",
    "# a uniform prior for the linear coefficient (the slope) between 0.5 and 1.5\n",
    "pri = np.repeat(1,100)/(1.5-0.5)\n",
    "\n",
    "# make an array of 'theta' values based on the prior range; this is a grid of the linear coefficient (the slope)\n",
    "xgrid = np.linspace(0.5,1.5,100)\n",
    "\n",
    "# find the posterior pdf\n",
    "logls = []\n",
    "for i in xgrid:\n",
    "    # keeping the y-intercept fixed at −0.23, but changing the slope values\n",
    "    thetas = np.array([-0.23,i]) # np.concatenate(([-0.23], i), axis=None)\n",
    "    likelihood = logL(thetas, data2, model=polynomial_fit)\n",
    "    logls.append(likelihood)\n",
    "    \n",
    "# Find posterior pdf; take the log prior in order to sum with log likelihood\n",
    "# this is just a one-dimensional model because the y-intercept is fixed.\n",
    "posterior = np.log(np.repeat(1,100)/(1.5-0.5))+logls\n",
    "# switching out of log space\n",
    "posterior = np.exp(posterior)\n",
    "\n",
    "# plot the posterior pdf\n",
    "plt.plot(xgrid,posterior,c='b',lw=3)\n",
    "plt.xlabel('x',fontsize=12);plt.ylabel('pdf(x|data)',fontsize=12)\n",
    "plt.show()"
   ]
  },
  {
   "cell_type": "markdown",
   "metadata": {},
   "source": [
    "### (3)"
   ]
  },
  {
   "cell_type": "code",
   "execution_count": 16,
   "metadata": {},
   "outputs": [
    {
     "name": "stdout",
     "output_type": "stream",
     "text": [
      "Bayesian evidence =  365684733.1606578\n"
     ]
    }
   ],
   "source": [
    "# (3) \n",
    "# Using the 1D gridded likelihood-x-prior, compute the Bayesian evidence of this linear model. \n",
    "# Bayesian evidence is the integral (sum) of likelihood-x-prior, times the infinitesimal\n",
    "b_1D_evidence = np.sum(posterior)*(xgrid[1]-xgrid[0])\n",
    "print('Bayesian evidence = ',b_1D_evidence) "
   ]
  },
  {
   "cell_type": "markdown",
   "metadata": {},
   "source": [
    "SRT: Good."
   ]
  },
  {
   "cell_type": "markdown",
   "metadata": {},
   "source": [
    "### (4)"
   ]
  },
  {
   "cell_type": "code",
   "execution_count": 23,
   "metadata": {},
   "outputs": [
    {
     "data": {
      "image/png": "[encoded data removed]",
      "text/plain": [
       "<Figure size 432x288 with 2 Axes>"
      ]
     },
     "metadata": {
      "needs_background": "light"
     },
     "output_type": "display_data"
    }
   ],
   "source": [
    "# (4) \n",
    "# Compute the joint 2D posterior pdf (again just the likelihood x prior) of linear and quadratic \n",
    "# coefficients of a quadratic model.\n",
    "\n",
    "# uniform priors for the linear coefficient are between 0.5 and 1.5, & quadratic coefficient between -1 and 0.25\n",
    "lin_prior = np.repeat(1,100)/(1.5-0.5)\n",
    "quad_prior = np.repeat(1,100)/(0.25-(-1))\n",
    "xgrid = np.linspace(0.5,1.5,100) # linear coefficients\n",
    "xgrid2 = np.linspace(-1,0.25,100) # quadratic coefficients\n",
    "\n",
    "# Finding the joint 2D posterior pdf of a quadratic model\n",
    "posterior_2d = []\n",
    "posterior_matrix = []\n",
    "q_lnlike = []\n",
    "for i in range(len(xgrid)):\n",
    "    posterior_2d = []\n",
    "    for j in range(len(xgrid)):\n",
    "        theta_quad = np.array([-0.23,xgrid[i],xgrid2[j]])\n",
    "        q_likelihood = logL(theta_quad, data2, model=polynomial_fit)\n",
    "        q_lnlike.append(q_likelihood)\n",
    "        posts = np.log(quad_prior[j])+np.log(lin_prior[i])+q_likelihood\n",
    "        # make sure to switch out of log space\n",
    "        posterior_2d.append(np.exp(posts))\n",
    "#   this is a two-dimensional model because the y-intercept is fixed.\n",
    "    posterior_matrix.append(posterior_2d)\n",
    "# np.shape(posterior_matrix) should be 100-x-100\n",
    "\n",
    "# Plot this two-dimensional posterior\n",
    "# Note: x an y axes are the indices of the array elements. Use 'extent' argument to \n",
    "# replace with actual coordinates of the linear & quad. coefficients.\n",
    "plt.imshow(posterior_matrix,\n",
    "           extent = [np.amin(xgrid),np.amax(xgrid),np.amin(xgrid2),np.amax(xgrid2)]) #cmap=\"copper_r\"\n",
    "plt.colorbar()\n",
    "plt.xlabel('Linear coeffs.', fontsize=11)\n",
    "plt.ylabel('Quadratic coeffs.', fontsize=11)\n",
    "plt.show()"
   ]
  },
  {
   "cell_type": "markdown",
   "metadata": {},
   "source": [
    "### (5)"
   ]
  },
  {
   "cell_type": "code",
   "execution_count": 18,
   "metadata": {},
   "outputs": [
    {
     "name": "stdout",
     "output_type": "stream",
     "text": [
      "Bayesian evidence =  493061001.6570572\n"
     ]
    }
   ],
   "source": [
    "# (5) \n",
    "# Using the 2D gridded likelihood-x-prior, compute the Bayesian evidence of the quadratic model.\n",
    "b_2D_evidence = np.sum(posterior_matrix)*(xgrid[1]-xgrid[0])*(xgrid2[1]-xgrid2[0])\n",
    "print('Bayesian evidence = ',b_2D_evidence)"
   ]
  },
  {
   "cell_type": "markdown",
   "metadata": {},
   "source": [
    "### (6)"
   ]
  },
  {
   "cell_type": "code",
   "execution_count": 20,
   "metadata": {},
   "outputs": [
    {
     "name": "stdout",
     "output_type": "stream",
     "text": [
      "Bayes factor (B12) =  0.7416622526050144\n",
      "Quadratic model (model 2) is more probable than Linear model (model 1).\n",
      "\n",
      "BIC for linear model -38.95553992520727\n",
      "BIC for quadratic model -27.179045185730892\n",
      "The BIC is more severe than Bayesian evidence in penalizing parameters. And the BIC results here suggest that the linear model is better. But since this exercise is computationally feasible, its better to compute and rely on the odds ratio; which tells us that the Quadratic model is favored.\n"
     ]
    }
   ],
   "source": [
    "# (6) Calculate the Bayes factor for a linear versus quadratic model. \n",
    "print('Bayes factor (B12) = ',b_1D_evidence/b_2D_evidence)\n",
    "print('Quadratic model (model 2) is more probable than Linear model (model 1).')\n",
    "\n",
    "# Compare/contrast with the BIC model comparison in the lecture?\n",
    "# BIC model comparison: the model with the smaller BIC value wins (Lecture 9)\n",
    "# BIC≡−2ln[𝐿0(𝑀)]+𝑘ln𝑁, where 𝑁 = data points, 𝑘 = parameters, 𝐿0(𝑀) = max value of likelihood\n",
    "print('\\nBIC for linear model',-2*np.amax(logls)+1*np.log(len(logls)))\n",
    "print('BIC for quadratic model',-2*np.amax(q_lnlike)+2*np.log(len(q_lnlike)))\n",
    "print('The BIC is more severe than Bayesian evidence in penalizing parameters. And the BIC results here suggest',\n",
    "    \"that the linear model is better. But since this exercise is computationally feasible, its better to compute\",\n",
    "    \"and rely on the odds ratio; which tells us that the Quadratic model is favored.\")"
   ]
  },
  {
   "cell_type": "markdown",
   "metadata": {},
   "source": [
    "SRT: All correct, and good commentary Niana. Well done."
   ]
  },
  {
   "cell_type": "code",
   "execution_count": null,
   "metadata": {},
   "outputs": [],
   "source": []
  }
 ],
 "metadata": {
  "anaconda-cloud": {},
  "kernelspec": {
   "display_name": "Python 3",
   "language": "python",
   "name": "python3"
  },
  "language_info": {
   "codemirror_mode": {
    "name": "ipython",
    "version": 3
   },
   "file_extension": ".py",
   "mimetype": "text/x-python",
   "name": "python",
   "nbconvert_exporter": "python",
   "pygments_lexer": "ipython3",
   "version": "3.8.5"
  }
 },
 "nbformat": 4,
 "nbformat_minor": 2
}
