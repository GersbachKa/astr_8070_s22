{
 "cells": [
  {
   "cell_type": "markdown",
   "metadata": {},
   "source": [
    "### ASTR 8070: Astrostatistics\n",
    "***S. R. Taylor***\n",
    "___\n",
    "\n",
    "# Homework 4\n",
    "### Due: Saturday, Feb 26th at 11.59pm CST\n",
    "---"
   ]
  },
  {
   "cell_type": "markdown",
   "metadata": {},
   "source": [
    "## Problem 1\n",
    "\n",
    "This problem uses a dataset in `/coursework/homeworks/hw_data/`.\n",
    "\n",
    "1) Read in `hw4_data_1.npy`. This is a (10 x 2) numpy array, with voltage measurements in the first column and heteroscedastic voltage uncertainties in the second column. Compute the sample mean and the standard error on the sample mean for this data.\n",
    "\n",
    "2) Fit the appropriate ln-likelihood function and find the best-fit mean voltage.\n",
    "\n",
    "3) Compute and plot the Bayesian posterior probability density (*not the log posterior*) for the mean voltage assuming a uniform prior for the mean in the range 3 to 7. Make sure this posterior pdf is normalized!\n",
    "\n",
    "4) By either drawing samples from this posterior, or using your gridded posterior pdf to make a cdf, find the equal-tailed 68.3% credible region for the mean, and compare the upper and lower boundaries to the sample mean plus/minus the standard error, respectively. *Also* find the MAP value of the mean.\n",
    "\n",
    "5) Repeat (3) and (4) this time with a prior on the mean that is uniform in the range 4.6 to 5.4. \n",
    "\n",
    "6) Now, imagine that we read an old paper about the experiment that gave us the voltage measurements, and they found that the mean was actually $6\\pm0.3$. Repeat (3) and (4) this time with a Gaussian prior on the mean centered at $6$ with standard deviation of $0.3$.\n",
    "\n",
    "7) Plot all of the normalized posterior pdfs for $\\mu$ from (3), (5), and (6) on the same plot, making sure that the xlim of the plot spans 0 to 10.\n",
    "\n",
    "8) You have made sure that the posterior pdfs are properly normalized, but until now you have ignored the meaning of that normalization constant. It is the Bayesian evidence for the particular model you have applied! Compute the evidence under a new model where the prior for the mean is a delta function at the best-fit value you found in (1) *(think about this and don't just immediately go looking for a `scipy.stats` delta function)*. Compare this to the evidence found under the prior in (3). Taking ratios to make a Bayes factor, which model is favored? Is there much of an Occam penalty by having the wide prior compared to knowing the mean exactly? "
   ]
  },
  {
   "cell_type": "markdown",
   "metadata": {},
   "source": [
    "### Solution"
   ]
  },
  {
   "cell_type": "code",
   "execution_count": 104,
   "metadata": {},
   "outputs": [],
   "source": [
    "import numpy as np\n",
    "from matplotlib import pyplot as plt\n",
    "import scipy.stats\n",
    "from scipy.stats import norm\n",
    "from scipy.stats import uniform\n",
    "from scipy import optimize"
   ]
  },
  {
   "cell_type": "code",
   "execution_count": 454,
   "metadata": {},
   "outputs": [
    {
     "name": "stdout",
     "output_type": "stream",
     "text": [
      "sample mean:  4.942118214425304\n",
      "error on sample mean: 0.43024334605205083\n"
     ]
    }
   ],
   "source": [
    "# (1) Read in hw4_data_1.npy. This is a (10 x 2) numpy array, with voltage measurements in the first column and \n",
    "# heteroscedastic voltage uncertainties in the second column. Compute the sample mean and the standard error on \n",
    "# the sample mean for this data.\n",
    "\n",
    "# Loading hw4_data_1.npy\n",
    "data = np.load(\"../../homeworks/hw_data/hw4_data_1.npy\")\n",
    "# extracting voltage measurements and uncertainties\n",
    "meas = np.array([i[0] for i in data])\n",
    "uncert = np.array([i[1] for i in data])\n",
    "\n",
    "# Using heteroscedastic gaussian result from derivation in Lecture 5 \n",
    "# to calculate sample mean and error on sample mean \n",
    "sample_mu = np.sum(meas/uncert**2)/np.sum(1/uncert**2)\n",
    "error = np.sum(1/uncert**2)**(-1/2)\n",
    "print('sample mean: ',sample_mu)\n",
    "print('error on sample mean:',error)"
   ]
  },
  {
   "cell_type": "code",
   "execution_count": 455,
   "metadata": {},
   "outputs": [
    {
     "name": "stdout",
     "output_type": "stream",
     "text": [
      "Best fit mean voltage:  4.942138671875\n"
     ]
    }
   ],
   "source": [
    "# (2) Fit the appropriate ln-likelihood function and find the best-fit mean voltage.\n",
    "\n",
    "# Writing ln-likelihood function for Gaussian distribution, following approach from Lecture 6\n",
    "# For a Gaussian distribution, maximizing ln-likelihood is same as minimizing chi^2 (derivations in L5 & L6).\n",
    "def squared_loss(mu, xi, sigma):\n",
    "    # the only model parameter is mean value, a constant value\n",
    "    return np.sum(((xi - mu) / sigma) ** 2, -1) # data minus model, weighted by the noise\n",
    "\n",
    "# define a lambda function\n",
    "f_squared = lambda beta: squared_loss(beta[0], xi=meas, sigma=uncert)\n",
    "\n",
    "# compute the maximum likelihood \n",
    "beta0 = 5 # initial guess for mu\n",
    "beta_squared = optimize.fmin(f_squared, beta0, disp=False) # scipy optimize finds the function minimum\n",
    "\n",
    "print('Best fit mean voltage: ',beta_squared[0])"
   ]
  },
  {
   "cell_type": "code",
   "execution_count": 487,
   "metadata": {},
   "outputs": [
    {
     "data": {
      "image/png": "[encoded data removed]",
      "text/plain": [
       "<Figure size 432x288 with 1 Axes>"
      ]
     },
     "metadata": {
      "needs_background": "light"
     },
     "output_type": "display_data"
    }
   ],
   "source": [
    "# (3) Compute and plot the Bayesian posterior probability density (not the log posterior) for the mean voltage \n",
    "# assuming a uniform prior for the mean in the range 3 to 7. Make sure this posterior pdf is normalized!\n",
    "\n",
    "sums = []\n",
    "probsum = []\n",
    "mu_grid = np.linspace(0,10,10000)\n",
    "# pri = np.linspace(3,7,100)#/(7-3)\n",
    "pri = np.repeat(1,len(mu_grid))/(7-3) # prior is equal to mu_grid range, so it's fine\n",
    "pri[(mu_grid<3)] = 0\n",
    "pri[(mu_grid>7)] = 0\n",
    "\n",
    "for i in range(len(mu_grid)):\n",
    "#     logpdf = norm.logpdf(meas,loc=pri[i],scale=uncert)\n",
    "#     sums.append(np.sum(logpdf)) # taking sum instead of product because we already took the log\n",
    "#   can also find pdf and then take sum instead...gives the same result, but with a warning message. \n",
    "    pdf = norm.pdf(meas,loc=mu_grid[i],scale=uncert)\n",
    "    probsum.append(np.product(pdf))\n",
    "L = np.array(probsum)\n",
    "# L = np.array(sums)\n",
    "post = L*pri\n",
    "# plt.plot(pri, post, label='posterior',lw=2)\n",
    "plt.plot(mu_grid, post/(np.sum(post) * (mu_grid[1]-mu_grid[0])), label='posterior',c='b',lw=2)\n",
    "plt.plot(mu_grid, L/(np.sum(L) * (mu_grid[1]-mu_grid[0])), label='likelihood',c='orange',ls='--',lw=2)\n",
    "plt.plot(mu_grid, pri, label='prior',c='magenta', alpha=0.5, ls='--',lw=2)\n",
    "plt.legend()\n",
    "plt.show()"
   ]
  },
  {
   "cell_type": "code",
   "execution_count": 498,
   "metadata": {},
   "outputs": [
    {
     "data": {
      "text/plain": [
       "999.9"
      ]
     },
     "execution_count": 498,
     "metadata": {},
     "output_type": "execute_result"
    }
   ],
   "source": [
    "np.sum(post/(np.sum(post)))/(mu_grid[1]-mu_grid[0])"
   ]
  },
  {
   "cell_type": "code",
   "execution_count": 500,
   "metadata": {},
   "outputs": [
    {
     "data": {
      "text/plain": [
       "array([0., 0., 0., ..., 0., 0., 0.])"
      ]
     },
     "execution_count": 500,
     "metadata": {},
     "output_type": "execute_result"
    }
   ],
   "source": [
    "np.sum(post/(np.sum(post) * (mu_grid[1]-mu_grid[0])))\n",
    "np.sum(post/(np.sum(post)))\n",
    "post/(np.sum(post))\n",
    "#cdf = sum(pdf)*dx"
   ]
  },
  {
   "cell_type": "code",
   "execution_count": 457,
   "metadata": {},
   "outputs": [
    {
     "name": "stdout",
     "output_type": "stream",
     "text": [
      "68% credible region = 4.516291629162916 to 5.367536753675368\n",
      "While sample mean plus/minus the standard error:\n",
      "4.511874868373253 to 5.372361560477355\n",
      "MAP value = 4.9395339533953395\n"
     ]
    }
   ],
   "source": [
    "# TRYING TO FOLLOW LECTURE 10\n",
    "\n",
    "# (4) By either drawing samples from this posterior, or using your gridded posterior pdf to make a cdf, find the \n",
    "# equal-tailed 68.3% credible region for the mean, and compare the upper and lower boundaries to the sample mean \n",
    "# plus/minus the standard error, respectively. Also find the MAP value of the mean.\n",
    "\n",
    "\"\"\"# L = norm.cdf(L*pri)\n",
    "cdf = np.cumsum(post)\n",
    "\"\"\"\n",
    "\n",
    "# Area = integral(pdf.dx) = sum(pdf)*dx = \n",
    "samples = np.random.choice(mu_grid, size=10000, p=post/np.sum(post)) # gives \"probabilities do not sum to 1\" error \n",
    "                                                                    # if not normalized by 'np.sum(post)'\n",
    "# can make a histogram of sam\n",
    "# 68% equal-tailed credible region\n",
    "lower, upper = np.percentile(samples,q=16), np.percentile(samples,q=84)\n",
    "# MAP value\n",
    "hist, bins = np.histogram(samples, bins=50)\n",
    "bin_mid = 0.5 * (bins[1:] + bins[:-1])\n",
    "idx = np.argsort(hist)[-1]\n",
    "map_theta = bin_mid[idx]\n",
    "\n",
    "print('68% credible region = ' + str(lower) + ' to ' + str(upper))\n",
    "# sample mean plus/minus the standard error\n",
    "print('While sample mean plus/minus the standard error:')\n",
    "print(str(sample_mu-error),'to',str(sample_mu+error))\n",
    "# MAP value of the mean\n",
    "print('MAP value = ' + str(map_theta))"
   ]
  },
  {
   "cell_type": "code",
   "execution_count": 458,
   "metadata": {},
   "outputs": [
    {
     "data": {
      "image/png": "[encoded data removed]",
      "text/plain": [
       "<Figure size 432x288 with 1 Axes>"
      ]
     },
     "metadata": {
      "needs_background": "light"
     },
     "output_type": "display_data"
    }
   ],
   "source": [
    "# (5) Repeat (3) and (4) this time with a prior on the mean that is uniform in the range 4.6 to 5.4.\n",
    "\n",
    "probsum = []\n",
    "mu_grid = np.linspace(0,10,10000)\n",
    "pri = np.repeat(1,len(mu_grid))/(5.4-4.6) # square b/n 5.4 & 4.6\n",
    "pri[(mu_grid<4.6)] = 0\n",
    "pri[(mu_grid>5.4)] = 0 # prior is limiting this pdf\n",
    "\n",
    "for i in range(len(mu_grid)):\n",
    "    pdf = norm.pdf(meas,loc=mu_grid[i],scale=uncert)\n",
    "    probsum.append(np.product(pdf))\n",
    "L = np.array(probsum)\n",
    "\n",
    "post2 = L*pri\n",
    "\n",
    "plt.plot(mu_grid, post2/(np.sum(post2) * (mu_grid[1]-mu_grid[0])), label='posterior',c='b',lw=2)\n",
    "plt.plot(mu_grid, L/(np.sum(L) * (mu_grid[1]-mu_grid[0])), label='likelihood',c='orange',ls='--',lw=2)\n",
    "plt.plot(mu_grid, pri, label='prior',c='magenta',alpha=0.5,ls='--',lw=2)\n",
    "plt.legend()\n",
    "plt.show()\n"
   ]
  },
  {
   "cell_type": "code",
   "execution_count": null,
   "metadata": {},
   "outputs": [],
   "source": []
  },
  {
   "cell_type": "code",
   "execution_count": 459,
   "metadata": {},
   "outputs": [
    {
     "data": {
      "image/png": "[encoded data removed]",
      "text/plain": [
       "<Figure size 432x288 with 1 Axes>"
      ]
     },
     "metadata": {
      "needs_background": "light"
     },
     "output_type": "display_data"
    }
   ],
   "source": [
    "# (6) Now, imagine that we read an old paper about the experiment that gave us the voltage measurements, \n",
    "# and they found that the mean was actually  6±0.3 . Repeat (3) and (4) this time with a Gaussian prior on \n",
    "# the mean centered at  6  with standard deviation of  0.3 \n",
    "probsum = []\n",
    "mu_grid = np.linspace(0,10,10000)\n",
    "pri = norm.pdf(mu_grid,6,0.3)\n",
    "\n",
    "for i in range(len(mu_grid)):\n",
    "    pdf = norm.pdf(meas,loc=mu_grid[i],scale=uncert)\n",
    "    probsum.append(np.product(pdf))\n",
    "L = np.array(probsum)\n",
    "\n",
    "post3 = L*pri\n",
    "\n",
    "plt.plot(mu_grid, post3/(np.sum(post3) * (mu_grid[1]-mu_grid[0])), label='posterior',c='b',lw=2)\n",
    "plt.plot(mu_grid, L/(np.sum(L) * (mu_grid[1]-mu_grid[0])), label='likelihood',c='orange',ls='--',lw=2)\n",
    "plt.plot(mu_grid, pri, label='prior',c='magenta', alpha=0.5, ls='--',lw=2)\n",
    "plt.legend()\n",
    "plt.show()"
   ]
  },
  {
   "cell_type": "code",
   "execution_count": 460,
   "metadata": {},
   "outputs": [
    {
     "data": {
      "image/png": "[encoded data removed]",
      "text/plain": [
       "<Figure size 432x288 with 1 Axes>"
      ]
     },
     "metadata": {
      "needs_background": "light"
     },
     "output_type": "display_data"
    }
   ],
   "source": [
    "# (7) Plot all of the normalized posterior pdfs for  𝜇  from (3), (5), and (6) on the same plot, making sure \n",
    "# that the xlim of the plot spans 0 to 10.\n",
    "\n",
    "plt.plot(mu_grid, post/(np.sum(post) * (mu_grid[1]-mu_grid[0])), label='posterior 1',c='g',lw=2)\n",
    "plt.plot(mu_grid, post2/(np.sum(post2) * (mu_grid[1]-mu_grid[0])), label='posterior 2',c='r',lw=2)\n",
    "plt.plot(mu_grid, post3/(np.sum(post3) * (mu_grid[1]-mu_grid[0])), label='posterior 3',c='k',lw=2)\n",
    "plt.legend()\n",
    "plt.xlim(0,10)\n",
    "plt.show()"
   ]
  },
  {
   "cell_type": "code",
   "execution_count": 461,
   "metadata": {},
   "outputs": [
    {
     "name": "stdout",
     "output_type": "stream",
     "text": [
      "4.942494249424943\n",
      "[4.94249425]\n"
     ]
    }
   ],
   "source": [
    "value = beta_squared[0]\n",
    "\n",
    "absolute_val_array = np.abs(mu_grid - value)\n",
    "# print(absolute_val_array)\n",
    "smallest_difference_index = absolute_val_array.argmin()\n",
    "closest_element = mu_grid[smallest_difference_index]\n",
    "\n",
    "print(closest_element)\n",
    "\n",
    "idx = np.where((mu_grid>=beta_squared[0]) & (mu_grid<beta_squared[0]+0.001))[0]\n",
    "print(mu_grid[idx])"
   ]
  },
  {
   "cell_type": "code",
   "execution_count": 475,
   "metadata": {},
   "outputs": [
    {
     "data": {
      "text/plain": [
       "(array([4942]),)"
      ]
     },
     "execution_count": 475,
     "metadata": {},
     "output_type": "execute_result"
    }
   ],
   "source": [
    "np.where(prior==1)"
   ]
  },
  {
   "cell_type": "code",
   "execution_count": 474,
   "metadata": {},
   "outputs": [
    {
     "data": {
      "text/plain": [
       "(array([4942]),)"
      ]
     },
     "execution_count": 474,
     "metadata": {},
     "output_type": "execute_result"
    }
   ],
   "source": [
    "np.where(post_new!=0)"
   ]
  },
  {
   "cell_type": "code",
   "execution_count": 476,
   "metadata": {},
   "outputs": [
    {
     "name": "stdout",
     "output_type": "stream",
     "text": [
      "Evidence under uniform prior: 2.8918714615457667e-08\n",
      "Evidence under delta fcn. prior: 1.0725967252258747e-07\n",
      "0.2696140491140113 , evidence1 is more probable than evidence2\n",
      "I think this is wrong b/c the delta function gives the exact mean, and should therefore be the better model\n"
     ]
    }
   ],
   "source": [
    "# (8)  You have made sure that the posterior pdfs are properly normalized, but until now you have ignored the \n",
    "# meaning of that normalization constant. It is the Bayesian evidence for the particular model you have applied! \n",
    "# Compute the evidence under a new model where the prior for the mean is a delta function at the best-fit value \n",
    "# you found in (1) (think about this and don't just immediately go looking for a scipy.stats delta function). \n",
    "# Compare this to the evidence found under the prior in (3). Taking ratios to make a Bayes factor, which model \n",
    "# is favored? Is there much of an Occam penalty by having the wide prior compared to knowing the mean exactly?\n",
    "\n",
    "from scipy import signal\n",
    "# prior for the mean is a delta function at the best-fit value found in (1)\n",
    "prior = signal.unit_impulse(len(L),idx) # the delta function: 1, and 0 everywhere that it's not that value\n",
    "# find the likelihood value at that location with a delta function spike. That should be the value of the evidence. \n",
    "# wherever the delta function is...the value with the likelihood at that value(position) and you'll get the evidence. \n",
    "evidence1 = np.sum(post) * (mu_grid[1]-mu_grid[0])\n",
    "post_new = L*prior\n",
    "# likelihood*prior(delta function)\n",
    "# don't need to include the infinitesimal in evidence calculation\n",
    "# pull out value of pdf at the position of the delta function (the delta function is already normalized\n",
    "# so that it takes into account that infinitesimal) \n",
    "# So you should be able to just evaluate Likelihood*prior at the position of the delta function...this = the evidence\n",
    "evidence2 = np.sum(post_new) #* (mu_grid[1]-mu_grid[0])\n",
    "print('Evidence under uniform prior:',evidence1)\n",
    "print('Evidence under delta fcn. prior:',evidence2)\n",
    "\n",
    "odds = evidence1/evidence2\n",
    "# “strong” evidence in favor of  evidence1  ( evidence1  is 'odds' times more probable than evidence2 )\n",
    "print(odds, ', evidence2 is more probable than evidence1')\n",
    "# print('I think this is wrong b/c the delta function gives the exact mean, and should therefore be the better model')\n",
    "\n",
    "# Lecture 9\n",
    "# Occam: All else being equal (i.e., each model fits the data equally well), the less complex model is favored."
   ]
  },
  {
   "cell_type": "markdown",
   "metadata": {},
   "source": [
    "## Problem 2\n",
    "\n",
    "This problem uses a dataset in `/coursework/homeworks/hw_data/`.\n",
    "\n",
    "1) Read in `hw4_data_2.npy`, which is a (3 x 20) numpy array that you used in `Lecture_9`. Set `x, y, sigma_y = data`. \n",
    "\n",
    "We're going to do some polynomial fits to this data just like in the lecture. However, in all cases you should **keep the $y$-intercept fixed at $-0.23$**. \n",
    "\n",
    "2) Use the following code to compute the un-normalized posterior pdf (i.e. just the likelihood x prior) on a grid of the linear coefficient (i.e. the slope) of a linear model, with a uniform prior between 0.5 and 1.5. Plot this posterior pdf. Remember this is just a one-dimensional model because the $y$-intercept is fixed. I advise a grid size of 100."
   ]
  },
  {
   "cell_type": "code",
   "execution_count": 377,
   "metadata": {},
   "outputs": [],
   "source": [
    "#Functions to do a polynomial fit, and compute the likelihood\n",
    "def polynomial_fit(theta, x):\n",
    "    \"\"\"Polynomial model of degree (len(theta) - 1)\"\"\"\n",
    "    # For a polynomial with order 1, this gives theta_0 + theta_1*x\n",
    "    # For a polynomial with order 2, this gives theta_0 + theta_1*x + theta_2*x^2, etc.\n",
    "    return sum(t * x ** n for (n, t) in enumerate(theta))\n",
    "\n",
    "# compute the data log-likelihood given a model\n",
    "def logL(theta, data, model=polynomial_fit):\n",
    "    \"\"\"Gaussian log-likelihood of the model at theta\"\"\"\n",
    "    x, y, sigma_y = data\n",
    "    y_fit = model(theta, x)\n",
    "    return sum(scipy.stats.norm.logpdf(*args) \n",
    "               for args in zip(y, y_fit, sigma_y))"
   ]
  },
  {
   "cell_type": "markdown",
   "metadata": {},
   "source": [
    "3) Using your 1D gridded likelihood-x-prior, compute the Bayesian evidence of this linear model. This may be a big number!\n",
    "\n",
    "4) Now compute the joint 2D posterior pdf (again just the likelihood x prior) of linear and quadratic coefficients of a quadratic model. Give the linear coefficient a uniform prior between 0.5 and 1.5. Give the quadratic coefficient a uniform prior between -1 and 0.25. Plot this two-dimensional posterior. Remember this is a two-dimensional model because the $y$-intercept is fixed. I advise a grid size of 100 in each model dimension.\n",
    "\n",
    "5) Using your 2D gridded likelihood-x-prior, compute the Bayesian evidence of the quadratic model. \n",
    "\n",
    "6) Calculate the Bayes factor for a linear versus quadratic model. How does this compare/contrast with the BIC model comparison in the lecture? "
   ]
  },
  {
   "cell_type": "markdown",
   "metadata": {},
   "source": [
    "### Solution"
   ]
  },
  {
   "cell_type": "code",
   "execution_count": 376,
   "metadata": {},
   "outputs": [],
   "source": [
    "# (1) Read in hw4_data_2.npy, which is a (3 x 20) numpy array that you used in Lecture_9. Set x, y, sigma_y = data.\n",
    "data2 = np.load(\"../../homeworks/hw_data/hw4_data_2.npy\")\n",
    "# \n",
    "x, y, sigma_y = data2\n",
    "# We're going to do some polynomial fits to this data just like in the lecture. However, in all cases you should \n",
    "# keep the  𝑦 -intercept fixed at  −0.23 ."
   ]
  },
  {
   "cell_type": "code",
   "execution_count": 403,
   "metadata": {},
   "outputs": [
    {
     "data": {
      "text/plain": [
       "[<matplotlib.lines.Line2D at 0x7faac07c9760>]"
      ]
     },
     "execution_count": 403,
     "metadata": {},
     "output_type": "execute_result"
    },
    {
     "data": {
      "image/png": "[encoded data removed]",
      "text/plain": [
       "<Figure size 432x288 with 1 Axes>"
      ]
     },
     "metadata": {
      "needs_background": "light"
     },
     "output_type": "display_data"
    }
   ],
   "source": [
    "# (2) Use the following code to compute the un-normalized posterior pdf (i.e. just the likelihood x prior) on a \n",
    "# grid of the linear coefficient (i.e. the slope) of a linear model, with a uniform prior between 0.5 and 1.5. \n",
    "# Plot this posterior pdf. Remember this is just a one-dimensional model because the  𝑦 -intercept is fixed. \n",
    "# I advise a grid size of 100.\n",
    "\n",
    "# give it an array of theta values\n",
    "pri = np.repeat(1,100)/(1.5-0.5)\n",
    "\n",
    "xgrid = np.linspace(0.5,1.5,100)\n",
    "logls = []\n",
    "\n",
    "for i in xgrid:\n",
    "    thetas = np.concatenate(([-0.23], i), axis=None)\n",
    "    likelihood = logL(thetas, data2, model=polynomial_fit)\n",
    "    logls.append(likelihood)\n",
    "    \n",
    "posterior = np.log(np.repeat(1,100)/(1.5-0.5))+logls\n",
    "posterior = np.exp(posterior)\n",
    "plt.plot(xgrid,posterior)\n",
    "\n",
    "# degree = 1\n",
    "# theta_0 = (degree + 1) * [0]\n",
    "# logL(theta_0, data2)"
   ]
  },
  {
   "cell_type": "code",
   "execution_count": 404,
   "metadata": {},
   "outputs": [
    {
     "data": {
      "text/plain": [
       "36202788582.90529"
      ]
     },
     "execution_count": 404,
     "metadata": {},
     "output_type": "execute_result"
    }
   ],
   "source": [
    "# (3) Using your 1D gridded likelihood-x-prior, compute the Bayesian evidence of this linear model. \n",
    "# This may be a big number!\n",
    "b_evidence = np.sum(posterior)\n",
    "b_evidence"
   ]
  },
  {
   "cell_type": "code",
   "execution_count": 482,
   "metadata": {},
   "outputs": [
    {
     "data": {
      "text/plain": [
       "(100, 100)"
      ]
     },
     "execution_count": 482,
     "metadata": {},
     "output_type": "execute_result"
    }
   ],
   "source": [
    "# (4) Now compute the joint 2D posterior pdf (again just the likelihood x prior) of linear and quadratic \n",
    "# coefficients of a quadratic model. Give the linear coefficient a uniform prior between 0.5 and 1.5. \n",
    "# Give the quadratic coefficient a uniform prior between -1 and 0.25. Plot this two-dimensional posterior. \n",
    "# Remember this is a two-dimensional model because the  𝑦 -intercept is fixed. I advise a grid size of 100 \n",
    "# in each model dimension.\n",
    "\n",
    "lin_prior = np.repeat(1,100)/(1.5-0.5)\n",
    "quad_prior = np.repeat(1,100)/(0.25-(-1))\n",
    "xgrid = np.linspace(0.5,1.5,100) # linear coefficients\n",
    "xgrid2 = np.linspace(-1,0.25,100) # quadratic coefficients\n",
    "\n",
    "posterior_2d = []\n",
    "posterior_matrix = []\n",
    "q_lnlike = []\n",
    "for i in range(len(xgrid)):\n",
    "    posterior_2d = []\n",
    "#     theta_lin = np.concatenate(([-0.23], xgrid[i]), axis=None)\n",
    "#     lin_likelihood = logL(theta_lin, data2, model=polynomial_fit)\n",
    "    for j in range(len(xgrid)):\n",
    "        theta_quad = np.concatenate(([-0.23], xgrid[i], xgrid2[j]), axis=None)\n",
    "        q_likelihood = logL(theta_quad, data2, model=polynomial_fit)\n",
    "        q_lnlike.append(q_likelihood)\n",
    "        post = np.log(quad_prior[j])+np.log(lin_prior[i])+q_likelihood\n",
    "        posterior_2d.append(np.exp(post))\n",
    "    posterior_matrix.append(posterior_2d)\n",
    "#     lin_likelihood = logL(theta_lin, data2, model=polynomial_fit)\n",
    "#     q_likelihood = logL(theta_quad, data2, model=polynomial_fit)\n",
    "#     posterior_2d.append([lin_likelihood,q_likelihood])\n",
    "\n",
    "np.shape(posterior_matrix)"
   ]
  },
  {
   "cell_type": "code",
   "execution_count": 483,
   "metadata": {},
   "outputs": [
    {
     "data": {
      "image/png": "[encoded data removed]",
      "text/plain": [
       "<Figure size 432x288 with 2 Axes>"
      ]
     },
     "metadata": {
      "needs_background": "light"
     },
     "output_type": "display_data"
    }
   ],
   "source": [
    "plt.imshow(posterior_matrix,\n",
    "           extent = [np.amin(xgrid),np.amax(xgrid),np.amin(xgrid2),np.amax(xgrid2)]) #cmap=\"copper_r\"\n",
    "plt.colorbar()\n",
    "plt.xlabel('Linear coeffs.')\n",
    "plt.ylabel('Quadratic coeffs.')\n",
    "# x an y axes are the indices of the array elements. Replace with actual coordinates of the linear & quad. coefficient\n",
    "plt.show()"
   ]
  },
  {
   "cell_type": "code",
   "execution_count": 477,
   "metadata": {},
   "outputs": [
    {
     "data": {
      "text/plain": [
       "3865992701792.664"
      ]
     },
     "execution_count": 477,
     "metadata": {},
     "output_type": "execute_result"
    }
   ],
   "source": [
    "# (5) Using your 2D gridded likelihood-x-prior, compute the Bayesian evidence of the quadratic model.\n",
    "np.sum(posterior_matrix)"
   ]
  },
  {
   "cell_type": "code",
   "execution_count": 503,
   "metadata": {},
   "outputs": [
    {
     "name": "stdout",
     "output_type": "stream",
     "text": [
      "106.78715240234725\n",
      "-34.350369739219175\n",
      "-17.96870481375471\n",
      "linear model better?\n"
     ]
    }
   ],
   "source": [
    "# (6) Calculate the Bayes factor for a linear versus quadratic model. How does this compare/contrast \n",
    "# with the BIC model comparison in the lecture?\n",
    "print(np.sum(posterior_matrix)/b_evidence)\n",
    "\n",
    "# BIC model comparison: the model with the smaller BIC value wins\n",
    "# BIC≡−2ln[𝐿0(𝑀)]+𝑘ln𝑁.\n",
    "print(-2*np.amax(logls)+2*np.log(len(logls)))\n",
    "print(-2*np.amax(q_lnlike)+3*np.log(len(q_lnlike)))\n",
    "print('linear model better?')"
   ]
  },
  {
   "cell_type": "code",
   "execution_count": null,
   "metadata": {},
   "outputs": [],
   "source": []
  }
 ],
 "metadata": {
  "anaconda-cloud": {},
  "kernelspec": {
   "display_name": "Python 3 (ipykernel)",
   "language": "python",
   "name": "python3"
  },
  "language_info": {
   "codemirror_mode": {
    "name": "ipython",
    "version": 3
   },
   "file_extension": ".py",
   "mimetype": "text/x-python",
   "name": "python",
   "nbconvert_exporter": "python",
   "pygments_lexer": "ipython3",
   "version": "3.8.12"
  }
 },
 "nbformat": 4,
 "nbformat_minor": 2
}
