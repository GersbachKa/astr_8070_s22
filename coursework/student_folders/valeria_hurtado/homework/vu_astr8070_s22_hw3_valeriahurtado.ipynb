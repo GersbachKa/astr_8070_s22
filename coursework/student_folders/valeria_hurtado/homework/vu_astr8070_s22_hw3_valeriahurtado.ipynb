{
 "cells": [
  {
   "cell_type": "markdown",
   "metadata": {},
   "source": [
    "### ASTR 8070: Astrostatistics\n",
    "***S. R. Taylor***\n",
    "___\n",
    "\n",
    "# Homework 3\n",
    "### Due: Saturday, Feb 12th at 11.59pm CST\n",
    "---"
   ]
  },
  {
   "cell_type": "markdown",
   "metadata": {},
   "source": [
    "## Only one problem this week\n",
    "\n",
    "This problem uses a dataset in `/coursework/homeworks/hw_data/`.\n",
    "\n",
    "1) Read in `hw3_data_1.npy`. This is a (50 x 2) numpy array, with measurements in the first column and uncertainties in the second column. Using the analytic results for heteroscedastic Gaussian data from lectures, compute the sample mean and the standard error on the sample mean from for this data.\n",
    "\n",
    "2) Reusing some approaches and tools from `Lecture_6`, write a ln-likelihood function for heteroscedastic Gaussian data, and use it in a fitting algorithm to find the best-fit mean. *Remember that scipy optimizers are set up to minimize functions.*\n",
    "\n",
    "3) Using the same numerical technique from `Lecture_5`, compute the Fisher uncertainty estimate on the mean.\n",
    "\n",
    "4) Using the bootstrap method, generate $1000$ bootstrap realizations of this dataset. *DO NOT use the `astroML` code. Write your own bootstrap function from scratch. Also recall that when resampling data, measurements and uncertainties should stay paired together.*\n",
    "\n",
    "5) Repeat (2) with all $1000$ boostrap datasets to find the distribution of the sample mean. Plot a normalized histogram of these bootstrap means, and overplot a Gaussian pdf with the mean and std found in (1). Do these agree?\n",
    "\n",
    "6) While we have fitted a heteroscedastic Gaussian to this data, let's try something else. Write some code to define a ln-likelihood for a Laplace distribution evaluated on this data. Fit simultaneously for the Laplace location parameter $\\mu$ and scale parameter $\\Delta$.\n",
    "\n",
    "7) Compute the AIC values for the heteroscedastic Gaussian model and the Laplacian model. Which model is favored by the data?\n",
    "\n",
    "8) Using the $1000$ bootstrap datasets from before, fit for the Laplacian $\\mu$ and $\\Delta$ for each. Make a nice `corner` plot of the distributions of $\\mu$ and $\\Delta$ that shows both the marginal $1$D distributions and the joint $2$D distribution. Make sure the plot has labels, shows the titles on each $1$D marginal panel, and has $68\\%$ and $95\\%$ levels.\n",
    "\n",
    "9) Let's finish with a Fisher uncertainty estimate of the Laplacian parameters. Use the following code to install `numdifftools` which provides a simple way to compute derivatives. We can then compute the Hessian matrix, which is the matrix of the second derivatives of the user's function. This should be computed at the best-fit Laplacian parameters $\\mu$ and $\\Delta$. To finish, invert the matrix, and then take the square root. The diagonal entries will then be the Fisher uncertainties on $\\mu$ and $\\Delta$. How does these compare to the bootstrap distribution widths found in (8)?"
   ]
  },
  {
   "cell_type": "code",
   "execution_count": 1,
   "metadata": {},
   "outputs": [
    {
     "name": "stdout",
     "output_type": "stream",
     "text": [
      "Requirement already satisfied: numdifftools in /home/valeria/githubrepo/ASTR8020/urrutimv/anaconda3/envs/astr8070/lib/python3.8/site-packages (0.9.40)\n",
      "Requirement already satisfied: scipy>=0.8 in /home/valeria/githubrepo/ASTR8020/urrutimv/anaconda3/envs/astr8070/lib/python3.8/site-packages (from numdifftools) (1.7.3)\n",
      "Requirement already satisfied: algopy>=0.4 in /home/valeria/githubrepo/ASTR8020/urrutimv/anaconda3/envs/astr8070/lib/python3.8/site-packages (from numdifftools) (0.5.7)\n",
      "Requirement already satisfied: numpy>=1.9 in /home/valeria/githubrepo/ASTR8020/urrutimv/anaconda3/envs/astr8070/lib/python3.8/site-packages (from numdifftools) (1.21.2)\n",
      "Requirement already satisfied: statsmodels>=0.6 in /home/valeria/githubrepo/ASTR8020/urrutimv/anaconda3/envs/astr8070/lib/python3.8/site-packages (from numdifftools) (0.13.2)\n",
      "Requirement already satisfied: pandas>=0.25 in /home/valeria/githubrepo/ASTR8020/urrutimv/anaconda3/envs/astr8070/lib/python3.8/site-packages (from statsmodels>=0.6->numdifftools) (1.4.0)\n",
      "Requirement already satisfied: patsy>=0.5.2 in /home/valeria/githubrepo/ASTR8020/urrutimv/anaconda3/envs/astr8070/lib/python3.8/site-packages (from statsmodels>=0.6->numdifftools) (0.5.2)\n",
      "Requirement already satisfied: packaging>=21.3 in /home/valeria/githubrepo/ASTR8020/urrutimv/anaconda3/envs/astr8070/lib/python3.8/site-packages (from statsmodels>=0.6->numdifftools) (21.3)\n",
      "Requirement already satisfied: pyparsing!=3.0.5,>=2.0.2 in /home/valeria/githubrepo/ASTR8020/urrutimv/anaconda3/envs/astr8070/lib/python3.8/site-packages (from packaging>=21.3->statsmodels>=0.6->numdifftools) (3.0.4)\n",
      "Requirement already satisfied: pytz>=2020.1 in /home/valeria/githubrepo/ASTR8020/urrutimv/anaconda3/envs/astr8070/lib/python3.8/site-packages (from pandas>=0.25->statsmodels>=0.6->numdifftools) (2021.3)\n",
      "Requirement already satisfied: python-dateutil>=2.8.1 in /home/valeria/githubrepo/ASTR8020/urrutimv/anaconda3/envs/astr8070/lib/python3.8/site-packages (from pandas>=0.25->statsmodels>=0.6->numdifftools) (2.8.2)\n",
      "Requirement already satisfied: six in /home/valeria/githubrepo/ASTR8020/urrutimv/anaconda3/envs/astr8070/lib/python3.8/site-packages (from patsy>=0.5.2->statsmodels>=0.6->numdifftools) (1.16.0)\n"
     ]
    }
   ],
   "source": [
    "!pip install numdifftools"
   ]
  },
  {
   "cell_type": "code",
   "execution_count": 2,
   "metadata": {},
   "outputs": [],
   "source": []
  },
  {
   "cell_type": "markdown",
   "metadata": {},
   "source": [
    "### Solution"
   ]
  },
  {
   "cell_type": "code",
   "execution_count": 3,
   "metadata": {},
   "outputs": [
    {
     "name": "stdout",
     "output_type": "stream",
     "text": [
      "sample mean = 3.9179920346060557\n",
      "standard error = 0.09481084100510954\n"
     ]
    }
   ],
   "source": [
    "#1) Read in hw3_data_1.npy. This is a (50 x 2) numpy array, with measurements in the first column and \n",
    "#uncertainties in the second column. Using the analytic results for heteroscedastic Gaussian data from lectures, \n",
    "#compute the sample mean and the standard error on the sample mean from for this data.\n",
    "\n",
    "import numpy as np\n",
    "from scipy import optimize\n",
    "\n",
    "data = np.load('../../../../coursework/homeworks/hw_data/hw3_data_1.npy') #reading data\n",
    "m = data[:,0] #measurement\n",
    "u = data[:,1] #uncertainty\n",
    "\n",
    "samp_mean = (np.sum(m/u**2))/(np.sum(1/u**2)) #sample mean \n",
    "print('sample mean =',samp_mean)\n",
    "\n",
    "sigma_mu = (np.sum(1/u**2))**-0.5 #standard error\n",
    "print('standard error =',sigma_mu)"
   ]
  },
  {
   "cell_type": "markdown",
   "metadata": {},
   "source": [
    "SRT: Great!"
   ]
  },
  {
   "cell_type": "code",
   "execution_count": 4,
   "metadata": {},
   "outputs": [
    {
     "name": "stdout",
     "output_type": "stream",
     "text": [
      "Optimization terminated successfully.\n",
      "         Current function value: 86.325091\n",
      "         Iterations: 20\n",
      "         Function evaluations: 40\n",
      "best fit mean = [3.91796875]\n"
     ]
    }
   ],
   "source": [
    "#2) Reusing some approaches and tools from Lecture_6, write a ln-likelihood function for heteroscedastic \n",
    "#Gaussian data, and use it in a fitting algorithm to find the best-fit mean. Remember that scipy optimizers are \n",
    "#set up to minimize functions.\n",
    "\n",
    "import scipy.stats\n",
    "from scipy.stats import norm\n",
    "from scipy.stats import uniform\n",
    "from scipy import optimize\n",
    "\n",
    "def f(b, m, u): \n",
    "    m_fit = b #only need one constant to find fit\n",
    "    return np.sum(((m - m_fit) / u) ** 2, -1) #ln likelihood\n",
    "\n",
    "\n",
    "f_squared = lambda beta: f(beta, m=m, u=u) #best fit\n",
    "beta0 = (1) #guess\n",
    "beta_squared1 = optimize.fmin(f_squared, beta0) \n",
    "print('best fit mean =',beta_squared1)"
   ]
  },
  {
   "cell_type": "markdown",
   "metadata": {},
   "source": [
    "SRT: Nice!"
   ]
  },
  {
   "cell_type": "code",
   "execution_count": 5,
   "metadata": {},
   "outputs": [
    {
     "name": "stdout",
     "output_type": "stream",
     "text": [
      "(10,)\n",
      "Fisher matrix error on estimated mean is 0.095\n"
     ]
    }
   ],
   "source": [
    "#3)Using the same numerical technique from Lecture_5, compute the Fisher uncertainty estimate on the mean.\n",
    "\n",
    "xgrid = np.linspace(2,6,10)\n",
    "L = []\n",
    "#Ltot = []\n",
    "\n",
    "for i in range(len(xgrid)):\n",
    "    L1 = norm.pdf(m,loc=xgrid[i],scale=u)\n",
    "    #print(L1)\n",
    "    L.append(np.prod(L1))\n",
    "    \n",
    "L = np.array(L)\n",
    "print(np.shape(L))\n",
    "\n",
    "\n",
    "sigma_mu2 = np.diff(np.log(L), n=2)\n",
    "sigma_mu2 /= (xgrid[1]-xgrid[0])**2\n",
    "sigma_mu2 *= -1\n",
    "sigma_mu2 = 1/np.sqrt(sigma_mu2)[0]\n",
    "\n",
    "print(\"Fisher matrix error on estimated mean is %.3f\" % sigma_mu2)"
   ]
  },
  {
   "cell_type": "code",
   "execution_count": 6,
   "metadata": {},
   "outputs": [],
   "source": [
    "#4) Using the bootstrap method, generate 1000 bootstrap realizations of this dataset. DO NOT use the astroML \n",
    "# code. Write your own bootstrap function from scratch. Also recall that when resampling data, measurements and \n",
    "# uncertainties should stay paired together.\n",
    "\n",
    "import random\n",
    "from random import choices\n",
    "\n",
    "## Method 1: \n",
    "# trying out randint to obtain indexes and from then obtain new arrays of m and u\n",
    "\n",
    "newms = []\n",
    "newus = []\n",
    "test=[]\n",
    "m = np.array(m)\n",
    "u = np.array(u)\n",
    "\n",
    "for i in range(1000):\n",
    "    indexes = np.random.randint(100,size=100)\n",
    "    ms = m[indexes]\n",
    "    newms.append(ms)\n",
    "    us = u[indexes]\n",
    "    newus.append(us)\n",
    "\n",
    "# print(np.shape(newms))\n",
    "# print(np.shape(newus))\n",
    "\n",
    "## Method 2: \n",
    "# Trying out random.choice to obtain indices and then use them to create new m and u arrays\n",
    "\n",
    "ys = np.arange(0,100,1)\n",
    "mrand = []\n",
    "urand = []\n",
    "\n",
    "for j in range(1000):\n",
    "    indexes = np.random.choice(ys,size=100)\n",
    "    m2 = m[indexes]\n",
    "    mrand.append(m2)\n",
    "    u2 = u[indexes]\n",
    "    urand.append(u2)\n",
    "    \n",
    "# print(indexes)\n",
    "# print(np.shape(mrand))"
   ]
  },
  {
   "cell_type": "code",
   "execution_count": 7,
   "metadata": {},
   "outputs": [
    {
     "data": {
      "image/png": "[encoded data removed]",
      "text/plain": [
       "<Figure size 576x576 with 1 Axes>"
      ]
     },
     "metadata": {
      "needs_background": "light"
     },
     "output_type": "display_data"
    }
   ],
   "source": [
    "#5) Repeat (2) with all 1000 boostrap datasets to find the distribution of the sample mean. Plot a normalized \n",
    "#histogram of these bootstrap means, and overplot a Gaussian pdf with the mean and std found in (1). \n",
    "#Do these agree?\n",
    "\n",
    "import matplotlib.pyplot as plt\n",
    "from scipy.stats import norm\n",
    "\n",
    "## Best fits of new m's and u's from randint method (1)\n",
    "\n",
    "best_fits1 = [] \n",
    "\n",
    "for i in range(1000):\n",
    "    f_squared2 = lambda beta: f(beta, m=newms[i], u=newus[i]) #best fit\n",
    "    beta0 = (1) #guess\n",
    "    beta_squared2 = optimize.fmin(f_squared2, beta0, disp=False)\n",
    "    best_fits1.append(beta_squared2[0])\n",
    "    #print('best fit mean =',beta_squared)\n",
    "    \n",
    "#print(np.shape(best_fits))\n",
    "\n",
    "## Best fits of new m's and u's from random.choice method (2)\n",
    "\n",
    "best_fits2 = [] \n",
    "\n",
    "for j in range(1000):\n",
    "    f_squared3 = lambda beta: f(beta, m=mrand[j], u=urand[j]) #best fit\n",
    "    beta0 = (1) #guess\n",
    "    beta_squared3 = optimize.fmin(f_squared3, beta0, disp=False)\n",
    "    best_fits2.append(beta_squared3[0])\n",
    "    #print('best fit mean =',beta_squared)\n",
    "\n",
    "\n",
    "## Making Gaussian\n",
    "xgrid = np.linspace(2,6,1000)\n",
    "gaussdist = norm(samp_mean,sigma_mu)\n",
    "samp_pdf = gaussdist.pdf(xgrid)\n",
    "\n",
    "## Plotting bootstrap m's and u's from both methods as well as gaussian:\n",
    "fig, ax = plt.subplots(figsize=(8, 8))\n",
    "\n",
    "ax.hist(best_fits1, bins=50, density=True, \n",
    "        histtype='step', color='blue', ls='dashed', \n",
    "        label=r'$best \\; fit \\; mean \\; using \\; randint$')\n",
    "ax.hist(best_fits2, bins=50, density=True, \n",
    "        histtype='step', color='purple', ls='dashed', \n",
    "        label=r'$best \\; fit \\; using \\; random.choice$')\n",
    "ax.plot(xgrid, samp_pdf, color='green',label=r'$Gaussian$')\n",
    "\n",
    "\n",
    "#ax.set_xlim(0.82, 1.18)\n",
    "ax.set_xlabel(r'$\\sigma$')\n",
    "ax.set_ylabel(r'$p(\\sigma|x,I)$')\n",
    "ax.legend()\n",
    "\n",
    "plt.show()"
   ]
  },
  {
   "cell_type": "markdown",
   "metadata": {},
   "source": [
    "SRT: This is awesome, Valeria! Both techniques seem to work the same, and everything agrees."
   ]
  },
  {
   "cell_type": "code",
   "execution_count": 8,
   "metadata": {},
   "outputs": [
    {
     "name": "stdout",
     "output_type": "stream",
     "text": [
      "Optimization terminated successfully.\n",
      "         Current function value: 156.788916\n",
      "         Iterations: 46\n",
      "         Function evaluations: 84\n",
      "best fit mean = [4.08828816 0.88226923]\n"
     ]
    }
   ],
   "source": [
    "#6) While we have fitted a heteroscedastic Gaussian to this data, let's try something else. Write some code to \n",
    "#define a ln-likelihood for a Laplace distribution evaluated on this data. Fit simultaneously for the Laplace \n",
    "#location parameter 𝜇 and scale parameter Δ.\n",
    "\n",
    "from scipy import stats\n",
    "from scipy.stats import laplace\n",
    "\n",
    "def lap(mu, delta, meas): \n",
    "    #dist = laplace.pdf(meas,mu,delta) #this didnt work on #7 but still gave us right fits on here?? why??\n",
    "    dist = laplace.logpdf(meas,mu,delta)\n",
    "    #return -np.prod(dist) #negative is to maximize ln L #used this line along with one commented above\n",
    "    return -np.sum(dist)\n",
    "    \n",
    "\n",
    "f_lap = lambda beta: lap(beta[0], beta[1], meas=m) #best fit\n",
    "beta0 = (4,1) #guess\n",
    "beta_lap = optimize.fmin(f_lap, beta0) \n",
    "print('best fit mean =',beta_lap)"
   ]
  },
  {
   "cell_type": "code",
   "execution_count": 9,
   "metadata": {},
   "outputs": [
    {
     "name": "stdout",
     "output_type": "stream",
     "text": [
      "-86.32509075324828\n",
      "-156.78891617659008\n",
      "Gaussian Akaike Information Criterion = 174.69099783302715\n",
      "Laplace Akaike Information Criterion = 317.7015436933863\n"
     ]
    }
   ],
   "source": [
    "#7) Compute the AIC values for the heteroscedastic Gaussian model and the Laplacian model. Which model is \n",
    "#favored by the data?\n",
    "\n",
    "k1=1 #for gaussian\n",
    "k2=2 #for laplace\n",
    "N=100\n",
    "\n",
    "l1 = -f(beta_squared1, m=m, u=u) #from heteroschedastic gaussian (prob 2)\n",
    "print(l1)\n",
    "l2 = -lap(beta_lap[0],beta_lap[1],m) #laplacian\n",
    "print(l2)\n",
    "\n",
    "aicG = -2*(l1) + 2*k1 + ((2*k1*(k1+1))/(N-k1-1))#negative f to counteract negative in function \n",
    "aicL = -2*(l2) + 2*k2 + ((2*k2*(k2+1))/(N-k2-1)) #same as above\n",
    "\n",
    "print('Gaussian Akaike Information Criterion =',aicG)\n",
    "print('Laplace Akaike Information Criterion =',aicL)\n",
    "\n",
    "#Gaussian is better fit because value of AIC is smaller!"
   ]
  },
  {
   "cell_type": "markdown",
   "metadata": {},
   "source": [
    "SRT: Nicely done."
   ]
  },
  {
   "cell_type": "code",
   "execution_count": 11,
   "metadata": {},
   "outputs": [
    {
     "name": "stdout",
     "output_type": "stream",
     "text": [
      "best fit mean = [4.09244193 0.88568375]\n"
     ]
    }
   ],
   "source": [
    "#8) Using the 1000 bootstrap datasets from before, fit for the Laplacian 𝜇 and Δ for each. Make a nice corner \n",
    "#plot of the distributions of 𝜇 and Δ that shows both the marginal 1D distributions and the joint 2D distribution.\n",
    "#Make sure the plot has labels, shows the titles on each 1D marginal panel, and has 68% and 95% levels.\n",
    "\n",
    "f_lap2 = lambda beta: lap(beta[0], beta[1], meas=newms) #Using laplacian function from prob 6\n",
    "beta0 = (4,1) #guess\n",
    "beta_lap2 = optimize.fmin(f_lap2, beta0,disp=False) \n",
    "print('best fit mean =',beta_lap2)\n",
    "\n",
    "#I named the mu and delta arrays this way because \"lap\" reminded me of the stone/character of a show i like\n",
    "# but also because i was blanking on names (sorry)\n",
    "lapislazuli1 = [] #mu\n",
    "lapislazuli2 = [] #delta\n",
    "\n",
    "for i in range(1000):\n",
    "    beta_lappie = lambda beta: lap(beta[0], beta[1], meas=newms[i]) #best fit using bootstrap m's\n",
    "    beta0 = (4,1) #guess\n",
    "    beta_lap2 = optimize.fmin(beta_lappie, beta0, disp=False)\n",
    "    lapislazuli1.append(beta_lap2[0]) #mu arrays\n",
    "    lapislazuli2.append(beta_lap2[1]) #delta arrays\n",
    "    #print('best fit mean =',beta_squared)"
   ]
  },
  {
   "cell_type": "code",
   "execution_count": 12,
   "metadata": {},
   "outputs": [
    {
     "name": "stdout",
     "output_type": "stream",
     "text": [
      "(2, 1000)\n",
      "(1000, 2)\n"
     ]
    },
    {
     "data": {
      "image/png": "[encoded data removed]",
      "text/plain": [
       "<Figure size 396x396 with 4 Axes>"
      ]
     },
     "metadata": {
      "needs_background": "light"
     },
     "output_type": "display_data"
    }
   ],
   "source": [
    "#8) Corner plot! So pretty!\n",
    "\n",
    "import corner\n",
    "lls = np.array([lapislazuli1, lapislazuli2])\n",
    "print(np.shape(lls))\n",
    "print(np.shape(lls.T))\n",
    "figgie = corner.corner(lls.T,quantiles=(0.16,0.84),levels=(0.68,0.95),labels=[r'$bootstrap \\; \\mu$',r'$bootstrap \\; \\Delta$'],titles=[r'$\\mu$',r'$\\Delta$'],color='purple',show_titles=True)"
   ]
  },
  {
   "cell_type": "code",
   "execution_count": 16,
   "metadata": {},
   "outputs": [
    {
     "name": "stdout",
     "output_type": "stream",
     "text": [
      "[[0.1092308  0.0071103 ]\n",
      " [0.0071103  0.08822814]]\n",
      "0.1330779040183713 standard deviation of mu\n",
      "0.07737243968894601 standard deviation of delta\n"
     ]
    }
   ],
   "source": [
    "#9) Let's finish with a Fisher uncertainty estimate of the Laplacian parameters. Use the following code to \n",
    "#install numdifftools which provides a simple way to compute derivatives. We can then compute the Hessian matrix,\n",
    "#which is the matrix of the second derivatives of the user's function. This should be computed at the best-fit \n",
    "#Laplacian parameters 𝜇 and Δ. To finish, invert the matrix, and then take the square root. The diagonal entries \n",
    "#will then be the Fisher uncertainties on 𝜇 and Δ. How does these compare to the bootstrap distribution widths \n",
    "#found in (8)?\n",
    "\n",
    "import numdifftools as nd\n",
    "H = nd.Hessian(f_lap)([beta_lap[0],beta_lap[1]])\n",
    "sigma_laplace = np.linalg.inv(H)**0.5\n",
    "\n",
    "print(sigma_laplace)\n",
    "\n",
    "print(np.std(lapislazuli1),'standard deviation of mu')\n",
    "print(np.std(lapislazuli2),'standard deviation of delta')\n",
    "\n",
    "#Standard deviation of mu and delta are similar to the values in the diagonal of the matrix as printed below"
   ]
  },
  {
   "cell_type": "markdown",
   "metadata": {},
   "source": [
    "SRT: Excellent work, Valeria! Well done."
   ]
  },
  {
   "cell_type": "markdown",
   "metadata": {},
   "source": [
    "##### as talked about in OH: np.sum() then shift tab !!!!!!!!!!!!!!!!!!!!!!!!!!!!!!!!!!!!!!!!!!!!!!!!!"
   ]
  },
  {
   "cell_type": "code",
   "execution_count": null,
   "metadata": {},
   "outputs": [],
   "source": []
  },
  {
   "cell_type": "code",
   "execution_count": null,
   "metadata": {},
   "outputs": [],
   "source": []
  },
  {
   "cell_type": "code",
   "execution_count": null,
   "metadata": {},
   "outputs": [],
   "source": []
  },
  {
   "cell_type": "markdown",
   "metadata": {},
   "source": [
    "ignore please vvv"
   ]
  },
  {
   "cell_type": "code",
   "execution_count": null,
   "metadata": {},
   "outputs": [],
   "source": [
    "# #a = [[6,3,45]],[[3,6,8,7,3,6,7,7]]\n",
    "# a = ([[12,  5,  2,  4],[ 7,  6,  8,  8],[ 1,  6,  7,  7]])\n",
    "# z = np.zeros(4)\n",
    "# z=np.array(z)\n",
    "# print(np.shape(z))\n",
    "# print(type(z))\n",
    "# #b = np.array([z,z,z])\n",
    "# b=np.random.randint(1,size=(3,4))\n",
    "# # print(np.shape(a))\n",
    "# # print(type(a))\n",
    "# # print(np.shape(b))\n",
    "# # print(type(b))\n",
    "\n",
    "# for i in range(3):\n",
    "#     for j in range(4):\n",
    "#         b[i][j] = a[i][j]\n",
    "\n",
    "# print(a,'a')\n",
    "# print(b,'b')"
   ]
  }
 ],
 "metadata": {
  "anaconda-cloud": {},
  "kernelspec": {
   "display_name": "Python [conda env:astr8070] *",
   "language": "python",
   "name": "conda-env-astr8070-py"
  },
  "language_info": {
   "codemirror_mode": {
    "name": "ipython",
    "version": 3
   },
   "file_extension": ".py",
   "mimetype": "text/x-python",
   "name": "python",
   "nbconvert_exporter": "python",
   "pygments_lexer": "ipython3",
   "version": "3.8.5"
  }
 },
 "nbformat": 4,
 "nbformat_minor": 2
}
