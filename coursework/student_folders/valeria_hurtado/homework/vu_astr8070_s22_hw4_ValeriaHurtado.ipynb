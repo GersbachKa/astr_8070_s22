{
 "cells": [
  {
   "cell_type": "markdown",
   "metadata": {},
   "source": [
    "### ASTR 8070: Astrostatistics\n",
    "***S. R. Taylor***\n",
    "___\n",
    "\n",
    "# Homework 4\n",
    "### Due: Saturday, Feb 26th at 11.59pm CST\n",
    "---"
   ]
  },
  {
   "cell_type": "markdown",
   "metadata": {},
   "source": [
    "## Problem 1\n",
    "\n",
    "This problem uses a dataset in `/coursework/homeworks/hw_data/`.\n",
    "\n",
    "1) Read in `hw4_data_1.npy`. This is a (10 x 2) numpy array, with voltage measurements in the first column and heteroscedastic voltage uncertainties in the second column. Compute the sample mean and the standard error on the sample mean for this data.\n",
    "\n",
    "2) Fit the appropriate ln-likelihood function and find the best-fit mean voltage.\n",
    "\n",
    "3) Compute and plot the Bayesian posterior probability density (*not the log posterior*) for the mean voltage assuming a uniform prior for the mean in the range 3 to 7. Make sure this posterior pdf is normalized!\n",
    "\n",
    "4) By either drawing samples from this posterior, or using your gridded posterior pdf to make a cdf, find the equal-tailed 68.3% credible region for the mean, and compare the upper and lower boundaries to the sample mean plus/minus the standard error, respectively. *Also* find the MAP value of the mean.\n",
    "\n",
    "5) Repeat (3) and (4) this time with a prior on the mean that is uniform in the range 4.6 to 5.4. \n",
    "\n",
    "6) Now, imagine that we read an old paper about the experiment that gave us the voltage measurements, and they found that the mean was actually $6\\pm0.3$. Repeat (3) and (4) this time with a Gaussian prior on the mean centered at $6$ with standard deviation of $0.3$.\n",
    "\n",
    "7) Plot all of the normalized posterior pdfs for $\\mu$ from (3), (5), and (6) on the same plot, making sure that the xlim of the plot spans 0 to 10.\n",
    "\n",
    "8) You have made sure that the posterior pdfs are properly normalized, but until now you have ignored the meaning of that normalization constant. It is the Bayesian evidence for the particular model you have applied! Compute the evidence under a new model where the prior for the mean is a delta function at the best-fit value you found in (1) *(think about this and don't just immediately go looking for a `scipy.stats` delta function)*. Compare this to the evidence found under the prior in (3). Taking ratios to make a Bayes factor, which model is favored? Is there much of an Occam penalty by having the wide prior compared to knowing the mean exactly? "
   ]
  },
  {
   "cell_type": "markdown",
   "metadata": {},
   "source": [
    "### Solution"
   ]
  },
  {
   "cell_type": "code",
   "execution_count": 1,
   "metadata": {},
   "outputs": [
    {
     "name": "stdout",
     "output_type": "stream",
     "text": [
      "sample mean = 4.942118214425304\n",
      "standard error = 0.43024334605205083\n"
     ]
    }
   ],
   "source": [
    "# 1) Read in hw4_data_1.npy. This is a (10 x 2) numpy array, with voltage measurements in the first column and \n",
    "#heteroscedastic voltage uncertainties in the second column. Compute the sample mean and the standard error on \n",
    "#the sample mean for this data.\n",
    "\n",
    "#Importing packages\n",
    "import numpy as np\n",
    "from scipy import optimize\n",
    "\n",
    "#obtaining data from hw4_data_1\n",
    "data = np.load('../../../../coursework/homeworks/hw_data/hw4_data_1.npy') #reading data\n",
    "#print(np.shape(data))\n",
    "Volt = data[:,0] #voltage measurements\n",
    "uncrt = data[:,1]  #heteroschedastoc voltage uncertainty\n",
    "\n",
    "#Making sure it looks alright\n",
    "# print(Volt,'volt')\n",
    "# print(uncrt,'uncrt')\n",
    "\n",
    "#Calculating the sample mean and standard error\n",
    "samp_mean = (np.sum(Volt/uncrt**2))/(np.sum(1/uncrt**2)) #sample mean \n",
    "print('sample mean =',samp_mean)\n",
    "\n",
    "sigma_mu = (np.sum(1/uncrt**2))**-0.5 #standard error\n",
    "print('standard error =',sigma_mu)"
   ]
  },
  {
   "cell_type": "markdown",
   "metadata": {},
   "source": [
    "SRT: Very good."
   ]
  },
  {
   "cell_type": "code",
   "execution_count": 2,
   "metadata": {},
   "outputs": [
    {
     "name": "stdout",
     "output_type": "stream",
     "text": [
      "Optimization terminated successfully.\n",
      "         Current function value: 5.614502\n",
      "         Iterations: 15\n",
      "         Function evaluations: 30\n",
      "best fit mean = [4.94208984]\n"
     ]
    }
   ],
   "source": [
    "# 2) Fit the appropriate ln-likelihood function and find the best-fit mean voltage\n",
    "\n",
    "#Importing more packages\n",
    "import scipy.stats\n",
    "from scipy.stats import norm\n",
    "from scipy.stats import uniform\n",
    "\n",
    "#fitting function to calculate ln likelihood\n",
    "def f(b, v, u): \n",
    "    v_fit = b #only need one constant to find fit\n",
    "    return np.sum(((v - v_fit) / u) ** 2, -1) #ln likelihood\n",
    "\n",
    "\n",
    "f_squared = lambda beta: f(beta, v=Volt, u=uncrt) #best fit\n",
    "beta0 = (4) #guess\n",
    "beta_squared1 = optimize.fmin(f_squared, beta0) \n",
    "print('best fit mean =',beta_squared1)"
   ]
  },
  {
   "cell_type": "code",
   "execution_count": 133,
   "metadata": {},
   "outputs": [
    {
     "data": {
      "text/plain": [
       "<matplotlib.legend.Legend at 0x7f5a47e83610>"
      ]
     },
     "execution_count": 133,
     "metadata": {},
     "output_type": "execute_result"
    },
    {
     "data": {
      "image/png": "[encoded data removed]",
      "text/plain": [
       "<Figure size 432x288 with 1 Axes>"
      ]
     },
     "metadata": {
      "needs_background": "light"
     },
     "output_type": "display_data"
    }
   ],
   "source": [
    "# 3) Compute and plot the Bayesian posterior probability density (not the log posterior) for the mean voltage \n",
    "#assuming a uniform prior for the mean in the range 3 to 7. Make sure this posterior pdf is normalized!\n",
    "\n",
    "import matplotlib.pyplot as plt\n",
    "\n",
    "C = 1/(7-3) # uniform prior for the mean in the range 3-7\n",
    "N = 10000 \n",
    "Carr = np.zeros(N)\n",
    "Carr = np.full(N,C) #array of length N filled with C values\n",
    "#print(Carr,'carr')\n",
    "xgrid = np.linspace(1,10,N) #grid space of len N\n",
    "Carr[xgrid < 3] = 0 # taking into account our prior information\n",
    "Carr[xgrid > 7] = 0 # taking into account our prior information\n",
    "Ltoo = []\n",
    "L = []\n",
    "prod=[]\n",
    "pr = []\n",
    "\n",
    "for i in range(len(xgrid)):\n",
    "    L1 = norm.pdf(Volt,loc=xgrid[i],scale=uncrt) #obtaining the likelihood\n",
    "    #print(L1)\n",
    "    Ltoo.append(np.prod(L1))\n",
    "\n",
    "#Making likelihood into array\n",
    "Ltoo = np.array(Ltoo) #likelihoods\n",
    "#print(Ltoo)\n",
    "\n",
    "# Posterior = likelihood * prior\n",
    "post = Ltoo*Carr\n",
    "\n",
    "#Normalizing posterior and likelihood\n",
    "normlp = post/(np.sum(post)*(xgrid[1]-xgrid[0])) #posterior over sum of posterior times distance between points\n",
    "normlL = Ltoo/(np.sum(Ltoo)*(xgrid[1]-xgrid[0])) #L over sum of likelihoods times distance between points\n",
    "\n",
    "#Plotting \n",
    "plt.plot(xgrid, normlp,color='green',lw=3.0,label='Posterior')\n",
    "plt.plot(xgrid, normlL,color='pink',ls='--',lw=3.0,label='Likelihood')\n",
    "plt.plot(xgrid,Carr,color='purple',lw=1.5,label='Prior')\n",
    "plt.xlabel('mu')\n",
    "plt.legend()"
   ]
  },
  {
   "cell_type": "markdown",
   "metadata": {},
   "source": [
    "SRT: Nicely done."
   ]
  },
  {
   "cell_type": "code",
   "execution_count": 36,
   "metadata": {},
   "outputs": [
    {
     "name": "stdout",
     "output_type": "stream",
     "text": [
      "4.514713787340796 16%\n",
      "5.370426920806626 84%\n",
      "4.942844284428443 MAP\n"
     ]
    }
   ],
   "source": [
    "# 4) By either drawing samples from this posterior, or using your gridded posterior pdf to make a cdf, find the \n",
    "#equal-tailed 68.3% credible region for the mean, and compare the upper and lower boundaries to the sample mean \n",
    "#plus/minus the standard error, respectively. Also find the MAP value of the mean.\n",
    "\n",
    "#Obtaining from histogram, a scipy.stats object and calculating ppf -> equal tailed region\n",
    "hist = scipy.stats.rv_histogram((normlp[:-1],xgrid))\n",
    "ppf16 = hist.ppf(0.16) #16%\n",
    "ppf84 = hist.ppf(0.84) #84%\n",
    "\n",
    "print(ppf16,'16%')\n",
    "print(ppf84,'84%')\n",
    "\n",
    "# Finding the MAP\n",
    "hist1=normlp\n",
    "bin_mid = 0.5 * (xgrid[1:] + xgrid[:-1])\n",
    "idx = np.argsort(hist1)[-1]\n",
    "mapp = bin_mid[idx]\n",
    "print(mapp,'MAP')"
   ]
  },
  {
   "cell_type": "markdown",
   "metadata": {},
   "source": [
    "SRT: Awesome!"
   ]
  },
  {
   "cell_type": "code",
   "execution_count": 132,
   "metadata": {},
   "outputs": [
    {
     "name": "stdout",
     "output_type": "stream",
     "text": [
      "4.736656664383979 16%\n",
      "5.237544735858949 84%\n",
      "4.942844284428443 MAP\n"
     ]
    },
    {
     "data": {
      "image/png": "[encoded data removed]",
      "text/plain": [
       "<Figure size 432x288 with 1 Axes>"
      ]
     },
     "metadata": {
      "needs_background": "light"
     },
     "output_type": "display_data"
    }
   ],
   "source": [
    "# 5) Repeat (3) and (4) this time with a prior on the mean that is uniform in the range 4.6 to 5.4. \n",
    " \n",
    "C2 = 1/(5.4-4.6) # uniform prior for the mean in the range 4.6-5.4\n",
    "Carr2 = np.zeros(N)\n",
    "Carr2 = np.full(N,C2) #array of priors\n",
    "Carr2[xgrid < 4.6] = 0\n",
    "Carr2[xgrid > 5.4] = 0\n",
    "L2s = []\n",
    "L = []\n",
    "prod=[]\n",
    "pr = []\n",
    "\n",
    "for i in range(len(xgrid)):\n",
    "    L2 = norm.pdf(Volt,loc=xgrid[i],scale=uncrt) #likelihood over grid\n",
    "    L2s.append(np.prod(L2))\n",
    "\n",
    "L2s = np.array(L2s) #likelihoods\n",
    "\n",
    "# Posterior = likelihood * prior\n",
    "post2 = L2s*Carr2\n",
    "\n",
    "#Normalizing posterior and likelihood\n",
    "normlp2 = post2/(np.sum(post2)*(xgrid[1]-xgrid[0]))#posterior over sum of posterior times distance between points\n",
    "normlL2 = L2s/(np.sum(L2s)*(xgrid[1]-xgrid[0])) #L over sum of likelihoods times distance between points\n",
    "\n",
    "#Plotting \n",
    "plt.plot(xgrid, normlp2,color='green',lw=2.0,label='Posterior')\n",
    "plt.plot(xgrid, normlL2,color='pink',lw=2.5,label='Likelihood')\n",
    "plt.plot(xgrid,Carr2,color='purple',lw=2.0,ls='--',label='Prior')\n",
    "plt.xlabel('mu')\n",
    "plt.legend()\n",
    "\n",
    "#Obtaining from histogram, a scipy.stats object and calculating ppf -> equal tailed region\n",
    "hist2 = scipy.stats.rv_histogram((normlp2[:-1],xgrid))\n",
    "ppf216 = hist2.ppf(0.16)\n",
    "ppf284 = hist2.ppf(0.84)\n",
    "print(ppf216,'16%')\n",
    "print(ppf284,'84%')\n",
    "\n",
    "# Finding the MAP\n",
    "hist_2=normlp2\n",
    "bin_mid2 = 0.5 * (xgrid[1:] + xgrid[:-1])\n",
    "idx2 = np.argsort(hist_2)[-1]\n",
    "mapp2 = bin_mid2[idx2]\n",
    "print(mapp2,'MAP')"
   ]
  },
  {
   "cell_type": "code",
   "execution_count": 130,
   "metadata": {},
   "outputs": [
    {
     "name": "stdout",
     "output_type": "stream",
     "text": [
      "5.409651922715856 16%\n",
      "5.899091628835403 84%\n",
      "5.654815481548154 MAP\n"
     ]
    },
    {
     "data": {
      "image/png": "[encoded data removed]",
      "text/plain": [
       "<Figure size 432x288 with 1 Axes>"
      ]
     },
     "metadata": {
      "needs_background": "light"
     },
     "output_type": "display_data"
    }
   ],
   "source": [
    "# 6) Now, imagine that we read an old paper about the experiment that gave us the voltage measurements, and they\n",
    "#found that the mean was actually 6±0.3. Repeat (3) and (4) this time with a Gaussian prior on the mean centered \n",
    "#at 6 with standard deviation of 0.3\n",
    "\n",
    "LG = []\n",
    "Carrg = norm.pdf(xgrid,loc=6,scale=0.3) #prior on mean centered at 6 with standard deviation 0.3\n",
    "\n",
    "for i in range(len(xgrid)):\n",
    "    Lg = norm.pdf(Volt,loc=xgrid[i],scale=uncrt) #likelihood over grid\n",
    "    LG.append(np.prod(Lg))\n",
    "    \n",
    "# Posterior = likelihood * prior\n",
    "postg = LG*Carrg\n",
    "\n",
    "#Normalizing posterior and likelihood\n",
    "normlpg = postg/(np.sum(postg)*(xgrid[1]-xgrid[0])) \n",
    "normlLg = LG/(np.sum(LG)*(xgrid[1]-xgrid[0])) \n",
    "\n",
    "#Plotting \n",
    "plt.plot(xgrid, normlpg,color='green',lw=2.0,label='Posterior')\n",
    "plt.plot(xgrid, normlLg,color='pink',lw=3.0,label='Likelihood')\n",
    "plt.plot(xgrid,Carrg,color='purple',lw=2.0,label='Prior')\n",
    "plt.xlabel('mu')\n",
    "plt.legend()\n",
    "\n",
    "#Obtaining from histogram, a scipy.stats object and calculating ppf -> equal tailed region\n",
    "histg = scipy.stats.rv_histogram((normlpg[:-1],xgrid))\n",
    "ppfg16 = histg.ppf(0.16)\n",
    "ppfg84 = histg.ppf(0.84)\n",
    "print(ppfg16,'16%')\n",
    "print(ppfg84,'84%')\n",
    "\n",
    "# Finding the MAP\n",
    "hist_g=normlpg\n",
    "bin_midg = 0.5 * (xgrid[1:] + xgrid[:-1])\n",
    "idxg = np.argsort(hist_g)[-1]\n",
    "mappg = bin_midg[idxg]\n",
    "print(mappg,'MAP')"
   ]
  },
  {
   "cell_type": "markdown",
   "metadata": {},
   "source": [
    "SRT: Excellent work, Valeria."
   ]
  },
  {
   "cell_type": "code",
   "execution_count": 136,
   "metadata": {},
   "outputs": [
    {
     "data": {
      "text/plain": [
       "<matplotlib.legend.Legend at 0x7f5a47e16fd0>"
      ]
     },
     "execution_count": 136,
     "metadata": {},
     "output_type": "execute_result"
    },
    {
     "data": {
      "image/png": "[encoded data removed]",
      "text/plain": [
       "<Figure size 432x288 with 1 Axes>"
      ]
     },
     "metadata": {
      "needs_background": "light"
     },
     "output_type": "display_data"
    }
   ],
   "source": [
    "# 7) Plot all of the normalized posterior pdfs for 𝜇 from (3), (5), and (6) on the same plot, making sure that \n",
    "#the xlim of the plot spans 0 to 10.\n",
    "\n",
    "plt.plot(xgrid,normlp,color='green',lw=2.0,label='Prior of range 3-7')\n",
    "plt.plot(xgrid,normlp2,color='purple',lw=2.0,label='Prior of range 4.5-5.4')\n",
    "plt.plot(xgrid,normlpg,color='pink',lw=2.0,label='Gaussian Prior 6±0.3')\n",
    "plt.xlabel('mu')\n",
    "plt.legend()"
   ]
  },
  {
   "cell_type": "code",
   "execution_count": 137,
   "metadata": {},
   "outputs": [
    {
     "name": "stdout",
     "output_type": "stream",
     "text": [
      "3.7090061451080483 -> model 2 is favored!\n",
      "the least complex model is favored: delta function model\n"
     ]
    },
    {
     "name": "stderr",
     "output_type": "stream",
     "text": [
      "/home/valeria/githubrepo/ASTR8020/urrutimv/anaconda3/envs/astr8070/lib/python3.8/site-packages/scipy/signal/waveforms.py:658: FutureWarning: elementwise comparison failed; returning scalar instead, but in the future will perform elementwise comparison\n",
      "  elif idx == 'mid':\n"
     ]
    }
   ],
   "source": [
    "# 8) You have made sure that the posterior pdfs are properly normalized, but until now you have ignored the \n",
    "#meaning of that normalization constant. It is the Bayesian evidence for the particular model you have applied! \n",
    "#Compute the evidence under a new model where the prior for the mean is a delta function at the best-fit value \n",
    "#you found in (1) (think about this and don't just immediately go looking for a scipy.stats delta function). \n",
    "#Compare this to the evidence found under the prior in (3). Taking ratios to make a Bayes factor, which model is\n",
    "#favored? Is there much of an Occam penalty by having the wide prior compared to knowing the mean exactly?\n",
    "\n",
    "from scipy import signal\n",
    "\n",
    "#Evidence for uniform model\n",
    "B1 = (np.sum(post)*(xgrid[1]-xgrid[0])) \n",
    "\n",
    "#Finding the index for the x value which most resembles the sample mean calculated above\n",
    "x = np.where((xgrid < samp_mean + 0.001) & (xgrid >= samp_mean))[0]\n",
    "\n",
    "#Calculating the prior of delta function\n",
    "priordel = scipy.signal.unit_impulse(N,x)\n",
    "\n",
    "#Posterior using the delta function prior\n",
    "postdel = Ltoo*priordel\n",
    "\n",
    "# Evidence for delta function model\n",
    "B2 = np.sum(postdel) \n",
    "\n",
    "#Bayes factor\n",
    "Z = B2/B1 #B2 is delta model, B1 is uniform model\n",
    "print(Z,'-> model 2 is favored!')\n",
    "\n",
    "print('the least complex model is favored: delta function model')"
   ]
  },
  {
   "cell_type": "markdown",
   "metadata": {},
   "source": [
    "SRT: Novel use of the unit_impulse function! Another way is just to use the fact that the integral of a pdf against a delta function gives the value of the pdf at the delta spike. So you can just calculate the pdf at the fixed delta position for that evidence."
   ]
  },
  {
   "cell_type": "markdown",
   "metadata": {},
   "source": [
    "## Problem 2\n",
    "\n",
    "This problem uses a dataset in `/coursework/homeworks/hw_data/`.\n",
    "\n",
    "1) Read in `hw4_data_2.npy`, which is a (3 x 20) numpy array that you used in `Lecture_9`. Set `x, y, sigma_y = data`. \n",
    "\n",
    "We're going to do some polynomial fits to this data just like in the lecture. However, in all cases you should **keep the $y$-intercept fixed at $-0.23$**. \n",
    "\n",
    "2) Use the following code to compute the un-normalized posterior pdf (i.e. just the likelihood x prior) on a grid of the linear coefficient (i.e. the slope) of a linear model, with a uniform prior between 0.5 and 1.5. Plot this posterior pdf. Remember this is just a one-dimensional model because the $y$-intercept is fixed. I advise a grid size of 100."
   ]
  },
  {
   "cell_type": "code",
   "execution_count": 74,
   "metadata": {},
   "outputs": [],
   "source": [
    "# 1) Read in hw4_data_2.npy, which is a (3 x 20) numpy array that you used in Lecture_9. \n",
    "# Set x, y, sigma_y = data"
   ]
  },
  {
   "cell_type": "code",
   "execution_count": null,
   "metadata": {},
   "outputs": [],
   "source": [
    "data = np.load('../../../../coursework/homeworks/hw_data/hw4_data_2.npy') #reading data"
   ]
  },
  {
   "cell_type": "code",
   "execution_count": 76,
   "metadata": {},
   "outputs": [],
   "source": [
    "#Functions to do a polynomial fit, and compute the likelihood\n",
    "def polynomial_fit(theta, x):\n",
    "    \"\"\"Polynomial model of degree (len(theta) - 1)\"\"\"\n",
    "    # For a polynomial with order 1, this gives theta_0 + theta_1*x\n",
    "    # For a polynomial with order 2, this gives theta_0 + theta_1*x + theta_2*x^2, etc.\n",
    "    return sum(t * x ** n for (n, t) in enumerate(theta))\n",
    "\n",
    "# compute the data log-likelihood given a model\n",
    "def logL(theta, data, model=polynomial_fit):\n",
    "    \"\"\"Gaussian log-likelihood of the model at theta\"\"\"\n",
    "    x, y, sigma_y = data\n",
    "    y_fit = model(theta, x)\n",
    "    return sum(scipy.stats.norm.logpdf(*args) \n",
    "               for args in zip(y, y_fit, sigma_y))"
   ]
  },
  {
   "cell_type": "markdown",
   "metadata": {},
   "source": [
    "3) Using your 1D gridded likelihood-x-prior, compute the Bayesian evidence of this linear model. This may be a big number!\n",
    "\n",
    "4) Now compute the joint 2D posterior pdf (again just the likelihood x prior) of linear and quadratic coefficients of a quadratic model. Give the linear coefficient a uniform prior between 0.5 and 1.5. Give the quadratic coefficient a uniform prior between -1 and 0.25. Plot this two-dimensional posterior. Remember this is a two-dimensional model because the $y$-intercept is fixed. I advise a grid size of 100 in each model dimension.\n",
    "\n",
    "5) Using your 2D gridded likelihood-x-prior, compute the Bayesian evidence of the quadratic model. \n",
    "\n",
    "6) Calculate the Bayes factor for a linear versus quadratic model. How does this compare/contrast with the BIC model comparison in the lecture? "
   ]
  },
  {
   "cell_type": "markdown",
   "metadata": {},
   "source": [
    "### Solution"
   ]
  },
  {
   "cell_type": "code",
   "execution_count": 138,
   "metadata": {},
   "outputs": [
    {
     "data": {
      "text/plain": [
       "Text(0.5, 0, 'm')"
      ]
     },
     "execution_count": 138,
     "metadata": {},
     "output_type": "execute_result"
    },
    {
     "data": {
      "image/png": "[encoded data removed]",
      "text/plain": [
       "<Figure size 432x288 with 1 Axes>"
      ]
     },
     "metadata": {
      "needs_background": "light"
     },
     "output_type": "display_data"
    }
   ],
   "source": [
    "# 2) Use the following code to compute the un-normalized posterior pdf (i.e. just the likelihood x prior) on a \n",
    "#grid of the linear coefficient (i.e. the slope) of a linear model, with a uniform prior between 0.5 and 1.5. \n",
    "#Plot this posterior pdf. Remember this is just a one-dimensional model because the 𝑦-intercept is fixed. I \n",
    "#advise a grid size of 100.\n",
    "\n",
    "m = 1/(1.5-0.5) # uniform prior of slope\n",
    "ms = np.zeros(100)\n",
    "ms = np.full(100,m) #array of priors for slope\n",
    "\n",
    "llike = [] #creating empty array for likelihood\n",
    "\n",
    "mgrid = np.linspace(0.5,1.5,100) #grid array for m\n",
    "\n",
    "for i in mgrid:\n",
    "    theta = np.concatenate((-0.23,i),axis=None) #obtaining y intercept (fixed) and theta1\n",
    "    ls = logL(theta, data, model=polynomial_fit) #obtaining likelihood using function defined above\n",
    "    llike.append(ls)\n",
    "\n",
    "llike = np.array(llike) #Making likelihood an array\n",
    "\n",
    "#Calculating Un-normalized Posterior = likelihood*prior but in log space then converting back again\n",
    "Post = llike + np.log(ms)\n",
    "Post = np.exp(Post)\n",
    "\n",
    "#Plotting\n",
    "plt.plot(mgrid,Post,color='purple')\n",
    "plt.ylabel('posterior')\n",
    "plt.xlabel('m')"
   ]
  },
  {
   "cell_type": "code",
   "execution_count": 85,
   "metadata": {},
   "outputs": [
    {
     "name": "stdout",
     "output_type": "stream",
     "text": [
      "365684733.1606578\n"
     ]
    }
   ],
   "source": [
    "#3) Using your 1D gridded likelihood-x-prior, compute the Bayesian evidence of this linear model. This may be a \n",
    "#big number!\n",
    "\n",
    "Bm = (np.sum(Post)*(mgrid[1]-mgrid[0])) #Bayesian evidence\n",
    "print(Bm) # wow :0000000000000"
   ]
  },
  {
   "cell_type": "markdown",
   "metadata": {},
   "source": [
    "SRT: Very good."
   ]
  },
  {
   "cell_type": "code",
   "execution_count": 97,
   "metadata": {},
   "outputs": [
    {
     "name": "stdout",
     "output_type": "stream",
     "text": [
      "(100, 100)\n"
     ]
    }
   ],
   "source": [
    "#4) Now compute the joint 2D posterior pdf (again just the likelihood x prior) of linear and quadratic \n",
    "#coefficients of a quadratic model. Give the linear coefficient a uniform prior between 0.5 and 1.5. Give the \n",
    "#quadratic coefficient a uniform prior between -1 and 0.25. Plot this two-dimensional posterior. Remember this \n",
    "#is a two-dimensional model because the 𝑦-intercept is fixed. I advise a grid size of 100 in each model dimension\n",
    "\n",
    "m2 = 1/(0.25+1) #quadratic coefficient prior\n",
    "m2s = np.zeros(100)\n",
    "m2s = np.full(100,m2) #array of quadratic coefficient prior\n",
    "mgrid2 = np.linspace(-1,0.25,100) #array of priors for slope\n",
    "llike2 = [] #empty array for likelihood\n",
    "P = [] #empty array for posterior\n",
    "\n",
    "#we want to explore all the possibilities so for every mgrid value we calculate a theta with the mgrid2 array \n",
    "for i in range(len(mgrid)): #as done for linear model\n",
    "    posts2 = []\n",
    "    for j in range(len(mgrid2)): #second loop for quadratic coefficient\n",
    "        theta2 = np.concatenate((-0.23,mgrid[i],mgrid2[j]),axis=None) #theta\n",
    "        ls2 = logL(theta2, data, model=polynomial_fit) #likelihood\n",
    "        Post2 = ls2 + np.log(ms[i])  + np.log(m2s[j]) #posterior\n",
    "        llike2.append(ls2)\n",
    "        posts2.append(np.exp(Post2))\n",
    "    P.append(posts2)\n",
    "    \n",
    "#Making sure everything looks okay\n",
    "print(np.shape(P))"
   ]
  },
  {
   "cell_type": "code",
   "execution_count": 102,
   "metadata": {},
   "outputs": [
    {
     "data": {
      "image/png": "[encoded data removed]",
      "text/plain": [
       "<Figure size 432x288 with 2 Axes>"
      ]
     },
     "metadata": {
      "needs_background": "light"
     },
     "output_type": "display_data"
    }
   ],
   "source": [
    "#Plotting 2D posterior pdf\n",
    "plt.imshow(P,cmap='magma',extent=([mgrid[0],mgrid[-1],mgrid2[0],mgrid2[-1]])) #galaxy-looking-plot B)\n",
    "plt.colorbar()\n",
    "plt.xlabel('linear coefficients')\n",
    "plt.ylabel('quadratic coefficients')\n",
    "plt.show()"
   ]
  },
  {
   "cell_type": "markdown",
   "metadata": {},
   "source": [
    "SRT: Nice color scheme!"
   ]
  },
  {
   "cell_type": "code",
   "execution_count": 103,
   "metadata": {},
   "outputs": [
    {
     "name": "stdout",
     "output_type": "stream",
     "text": [
      "493061001.6570572\n"
     ]
    }
   ],
   "source": [
    "# 5) Using your 2D gridded likelihood-x-prior, compute the Bayesian evidence of the quadratic model.\n",
    "Bq = (np.sum(P)*(mgrid[1]-mgrid[0])*(mgrid2[1]-mgrid2[0])) #Bayes evidence for quadratic model\n",
    "print(Bq) # :0000000000000"
   ]
  },
  {
   "cell_type": "code",
   "execution_count": 117,
   "metadata": {},
   "outputs": [
    {
     "name": "stdout",
     "output_type": "stream",
     "text": [
      "0.7416622526050144 uh oh Bayesian Factor calculation prefers the quadratic model !\n",
      "linear BIC ->  -38.95553992520727 | quadratic BIC -> -27.179045185730892\n",
      "uh oh BIC prefers the linear model !\n"
     ]
    }
   ],
   "source": [
    "#6) Calculate the Bayes factor for a linear versus quadratic model. How does this compare/contrast with the \n",
    "# BIC model comparison in the lecture?\n",
    "\n",
    "Z = Bm/Bq\n",
    "print(Z,'uh oh Bayesian Factor calculation prefers the quadratic model !')\n",
    "\n",
    "kl = 1 #number of free parameters in linear model\n",
    "kq = 2 #number of free parameters in quadratic model\n",
    "BICl = -2*(np.max(llike)) + kl*(np.log(len(llike))) #BIC for linear model\n",
    "BICq = -2*(np.max(llike2)) + kq*(np.log(len(llike2))) #BIC for quadratic model\n",
    "print('linear BIC -> ',BICl,'| quadratic BIC ->',BICq) \n",
    "print('uh oh BIC prefers the linear model !')"
   ]
  },
  {
   "cell_type": "markdown",
   "metadata": {},
   "source": [
    "SRT: All correct! Remember, in lectures I mentioned that the BIC is much more severe in penalizing model parameters than the Bayesian evidence. Here the quadratic parameter is clearly doing something useful, and is not wasted. So we actually mildly prefer it."
   ]
  },
  {
   "cell_type": "markdown",
   "metadata": {},
   "source": [
    "SRT: Well done, Valeria."
   ]
  },
  {
   "cell_type": "code",
   "execution_count": null,
   "metadata": {},
   "outputs": [],
   "source": []
  }
 ],
 "metadata": {
  "anaconda-cloud": {},
  "kernelspec": {
   "display_name": "Python 3",
   "language": "python",
   "name": "python3"
  },
  "language_info": {
   "codemirror_mode": {
    "name": "ipython",
    "version": 3
   },
   "file_extension": ".py",
   "mimetype": "text/x-python",
   "name": "python",
   "nbconvert_exporter": "python",
   "pygments_lexer": "ipython3",
   "version": "3.8.5"
  }
 },
 "nbformat": 4,
 "nbformat_minor": 2
}
